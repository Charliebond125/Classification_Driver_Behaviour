{
 "cells": [
  {
   "cell_type": "markdown",
   "metadata": {},
   "source": [
    "Perform classification using different algorithms. \n",
    "KNN, SVM, Random Forest, Tensorflow.\n",
    "EDA is very important. Ensure justification for approach is used.\n",
    "Training and validation datasets.\n",
    "\n",
    "List of Tasks:-\n",
    "\n",
    "- Import required libraries to use in Classification\n",
    "- Identify PreProcessing steps\n",
    "- Exploratory Data Analysis to identify features\n",
    "- Identify Hypothesis and Null Hypothesis\n",
    "- Convert categorical values using one hot encoding\n",
    "- Perform PCA/SLA to reduce dimensionality\n",
    "- KNN classification\n",
    "- SVM Classification\n",
    "- Random Forest Classification\n",
    "- TensorFlow Classification\n",
    "- Perceptron Classification (Using own built perceptron if possible)\n",
    "- Neural Network Classification (increasing the layers from own built network)\n",
    "- Keras Classification"
   ]
  },
  {
   "cell_type": "markdown",
   "metadata": {},
   "source": [
    "To add, this dataset is a multi-label classification problem. The three classes, 'Normal', 'Aggressive', or 'Defensive', are to be predicted and attained from training data in the first instance.\n",
    "\n",
    "Using supervised learning on the split training data, "
   ]
  },
  {
   "cell_type": "code",
   "execution_count": 1,
   "metadata": {},
   "outputs": [],
   "source": [
    "# importing required libraries\n",
    "\n",
    "import os\n",
    "import re\n",
    "import math\n",
    "\n",
    "import pandas as pd\n",
    "import numpy as np\n",
    "from pandas.plotting import scatter_matrix\n",
    "from matplotlib import pyplot\n",
    "import matplotlib.pyplot as plt\n",
    "import seaborn as sns\n",
    "\n",
    "from sklearn import cluster, datasets, metrics\n",
    "sns.set()\n",
    "from scipy import stats\n",
    "from sklearn.model_selection import train_test_split\n",
    "from sklearn.model_selection import cross_val_score\n",
    "from sklearn.model_selection import StratifiedKFold\n",
    "from sklearn.metrics import classification_report\n",
    "from sklearn.ensemble import RandomForestClassifier\n",
    "from sklearn.metrics import confusion_matrix\n",
    "from sklearn.metrics import accuracy_score\n",
    "from sklearn.linear_model import LogisticRegression\n",
    "from sklearn.tree import DecisionTreeClassifier\n",
    "from sklearn.neighbors import KNeighborsClassifier\n",
    "from sklearn.discriminant_analysis import LinearDiscriminantAnalysis\n",
    "from sklearn.naive_bayes import GaussianNB\n",
    "from sklearn.svm import SVC\n",
    "from sklearn.preprocessing import StandardScaler\n",
    "import sklearn.preprocessing as preprocessing\n",
    "\n",
    "\n",
    "import warnings\n",
    "warnings.filterwarnings('ignore')\n",
    "%matplotlib inline\n",
    "plt.style.use('ggplot')"
   ]
  },
  {
   "cell_type": "code",
   "execution_count": 3,
   "metadata": {},
   "outputs": [],
   "source": [
    "f = open(r'C:\\Users\\charl\\OneDrive\\Msc Degree details\\CE880\\REsubmission_CE880_Aug_22\\train_motion_data_normalized.csv')"
   ]
  },
  {
   "cell_type": "code",
   "execution_count": 4,
   "metadata": {},
   "outputs": [
    {
     "data": {
      "text/html": [
       "<div>\n",
       "<style scoped>\n",
       "    .dataframe tbody tr th:only-of-type {\n",
       "        vertical-align: middle;\n",
       "    }\n",
       "\n",
       "    .dataframe tbody tr th {\n",
       "        vertical-align: top;\n",
       "    }\n",
       "\n",
       "    .dataframe thead th {\n",
       "        text-align: right;\n",
       "    }\n",
       "</style>\n",
       "<table border=\"1\" class=\"dataframe\">\n",
       "  <thead>\n",
       "    <tr style=\"text-align: right;\">\n",
       "      <th></th>\n",
       "      <th>AccX</th>\n",
       "      <th>AccY</th>\n",
       "      <th>AccZ</th>\n",
       "      <th>GyroX</th>\n",
       "      <th>GyroY</th>\n",
       "      <th>GyroZ</th>\n",
       "      <th>Class</th>\n",
       "      <th>Timestamp</th>\n",
       "    </tr>\n",
       "  </thead>\n",
       "  <tbody>\n",
       "    <tr>\n",
       "      <th>0</th>\n",
       "      <td>0.000000</td>\n",
       "      <td>0.000000</td>\n",
       "      <td>0.000000</td>\n",
       "      <td>0.059407</td>\n",
       "      <td>-0.174707</td>\n",
       "      <td>0.101938</td>\n",
       "      <td>NORMAL</td>\n",
       "      <td>3581629</td>\n",
       "    </tr>\n",
       "    <tr>\n",
       "      <th>1</th>\n",
       "      <td>-1.624864</td>\n",
       "      <td>-1.082492</td>\n",
       "      <td>-0.204183</td>\n",
       "      <td>-0.028558</td>\n",
       "      <td>0.051313</td>\n",
       "      <td>0.135536</td>\n",
       "      <td>NORMAL</td>\n",
       "      <td>3581630</td>\n",
       "    </tr>\n",
       "    <tr>\n",
       "      <th>2</th>\n",
       "      <td>-0.594660</td>\n",
       "      <td>-0.122410</td>\n",
       "      <td>0.220502</td>\n",
       "      <td>-0.019395</td>\n",
       "      <td>-0.029322</td>\n",
       "      <td>0.087888</td>\n",
       "      <td>NORMAL</td>\n",
       "      <td>3581630</td>\n",
       "    </tr>\n",
       "    <tr>\n",
       "      <th>3</th>\n",
       "      <td>0.738478</td>\n",
       "      <td>-0.228456</td>\n",
       "      <td>0.667732</td>\n",
       "      <td>0.069791</td>\n",
       "      <td>-0.029932</td>\n",
       "      <td>0.054902</td>\n",
       "      <td>NORMAL</td>\n",
       "      <td>3581631</td>\n",
       "    </tr>\n",
       "    <tr>\n",
       "      <th>4</th>\n",
       "      <td>0.101741</td>\n",
       "      <td>0.777568</td>\n",
       "      <td>-0.066730</td>\n",
       "      <td>0.030696</td>\n",
       "      <td>-0.003665</td>\n",
       "      <td>0.054902</td>\n",
       "      <td>NORMAL</td>\n",
       "      <td>3581631</td>\n",
       "    </tr>\n",
       "    <tr>\n",
       "      <th>5</th>\n",
       "      <td>0.158470</td>\n",
       "      <td>0.345891</td>\n",
       "      <td>0.355274</td>\n",
       "      <td>0.021533</td>\n",
       "      <td>0.115454</td>\n",
       "      <td>0.014584</td>\n",
       "      <td>NORMAL</td>\n",
       "      <td>3581632</td>\n",
       "    </tr>\n",
       "    <tr>\n",
       "      <th>6</th>\n",
       "      <td>0.078171</td>\n",
       "      <td>-0.349180</td>\n",
       "      <td>0.270652</td>\n",
       "      <td>0.034361</td>\n",
       "      <td>-0.030543</td>\n",
       "      <td>0.050625</td>\n",
       "      <td>NORMAL</td>\n",
       "      <td>3581632</td>\n",
       "    </tr>\n",
       "    <tr>\n",
       "      <th>7</th>\n",
       "      <td>-0.662750</td>\n",
       "      <td>-0.462775</td>\n",
       "      <td>-0.099797</td>\n",
       "      <td>0.008705</td>\n",
       "      <td>-0.009774</td>\n",
       "      <td>0.046960</td>\n",
       "      <td>NORMAL</td>\n",
       "      <td>3581633</td>\n",
       "    </tr>\n",
       "    <tr>\n",
       "      <th>8</th>\n",
       "      <td>0.467318</td>\n",
       "      <td>-0.234640</td>\n",
       "      <td>0.134139</td>\n",
       "      <td>-0.048717</td>\n",
       "      <td>-0.020769</td>\n",
       "      <td>-0.030009</td>\n",
       "      <td>NORMAL</td>\n",
       "      <td>3581633</td>\n",
       "    </tr>\n",
       "    <tr>\n",
       "      <th>9</th>\n",
       "      <td>-0.171895</td>\n",
       "      <td>-0.408894</td>\n",
       "      <td>0.414653</td>\n",
       "      <td>0.009316</td>\n",
       "      <td>0.058032</td>\n",
       "      <td>-0.019624</td>\n",
       "      <td>NORMAL</td>\n",
       "      <td>3581634</td>\n",
       "    </tr>\n",
       "  </tbody>\n",
       "</table>\n",
       "</div>"
      ],
      "text/plain": [
       "       AccX      AccY      AccZ     GyroX     GyroY     GyroZ   Class  \\\n",
       "0  0.000000  0.000000  0.000000  0.059407 -0.174707  0.101938  NORMAL   \n",
       "1 -1.624864 -1.082492 -0.204183 -0.028558  0.051313  0.135536  NORMAL   \n",
       "2 -0.594660 -0.122410  0.220502 -0.019395 -0.029322  0.087888  NORMAL   \n",
       "3  0.738478 -0.228456  0.667732  0.069791 -0.029932  0.054902  NORMAL   \n",
       "4  0.101741  0.777568 -0.066730  0.030696 -0.003665  0.054902  NORMAL   \n",
       "5  0.158470  0.345891  0.355274  0.021533  0.115454  0.014584  NORMAL   \n",
       "6  0.078171 -0.349180  0.270652  0.034361 -0.030543  0.050625  NORMAL   \n",
       "7 -0.662750 -0.462775 -0.099797  0.008705 -0.009774  0.046960  NORMAL   \n",
       "8  0.467318 -0.234640  0.134139 -0.048717 -0.020769 -0.030009  NORMAL   \n",
       "9 -0.171895 -0.408894  0.414653  0.009316  0.058032 -0.019624  NORMAL   \n",
       "\n",
       "   Timestamp  \n",
       "0    3581629  \n",
       "1    3581630  \n",
       "2    3581630  \n",
       "3    3581631  \n",
       "4    3581631  \n",
       "5    3581632  \n",
       "6    3581632  \n",
       "7    3581633  \n",
       "8    3581633  \n",
       "9    3581634  "
      ]
     },
     "execution_count": 4,
     "metadata": {},
     "output_type": "execute_result"
    }
   ],
   "source": [
    "dataframe = pd.read_csv(f)\n",
    "dataframe.head(10)"
   ]
  },
  {
   "cell_type": "code",
   "execution_count": 5,
   "metadata": {},
   "outputs": [
    {
     "data": {
      "text/plain": [
       "(3339, 8)"
      ]
     },
     "execution_count": 5,
     "metadata": {},
     "output_type": "execute_result"
    }
   ],
   "source": [
    "dataframe.shape"
   ]
  },
  {
   "cell_type": "code",
   "execution_count": 6,
   "metadata": {},
   "outputs": [
    {
     "name": "stdout",
     "output_type": "stream",
     "text": [
      "['AccX', 'AccY', 'AccZ', 'GyroX', 'GyroY', 'GyroZ', 'Class', 'Timestamp']\n"
     ]
    }
   ],
   "source": [
    "print(dataframe.columns.tolist())"
   ]
  },
  {
   "cell_type": "code",
   "execution_count": 7,
   "metadata": {},
   "outputs": [
    {
     "data": {
      "text/html": [
       "<div>\n",
       "<style scoped>\n",
       "    .dataframe tbody tr th:only-of-type {\n",
       "        vertical-align: middle;\n",
       "    }\n",
       "\n",
       "    .dataframe tbody tr th {\n",
       "        vertical-align: top;\n",
       "    }\n",
       "\n",
       "    .dataframe thead th {\n",
       "        text-align: right;\n",
       "    }\n",
       "</style>\n",
       "<table border=\"1\" class=\"dataframe\">\n",
       "  <thead>\n",
       "    <tr style=\"text-align: right;\">\n",
       "      <th></th>\n",
       "      <th>AccX</th>\n",
       "      <th>AccY</th>\n",
       "      <th>AccZ</th>\n",
       "      <th>GyroX</th>\n",
       "      <th>GyroY</th>\n",
       "      <th>GyroZ</th>\n",
       "    </tr>\n",
       "  </thead>\n",
       "  <tbody>\n",
       "    <tr>\n",
       "      <th>count</th>\n",
       "      <td>3339.000000</td>\n",
       "      <td>3339.000000</td>\n",
       "      <td>3339.000000</td>\n",
       "      <td>3339.000000</td>\n",
       "      <td>3339.000000</td>\n",
       "      <td>3339.000000</td>\n",
       "    </tr>\n",
       "    <tr>\n",
       "      <th>mean</th>\n",
       "      <td>0.033422</td>\n",
       "      <td>-0.074607</td>\n",
       "      <td>0.012268</td>\n",
       "      <td>0.001184</td>\n",
       "      <td>-0.001189</td>\n",
       "      <td>0.008887</td>\n",
       "    </tr>\n",
       "    <tr>\n",
       "      <th>std</th>\n",
       "      <td>0.979369</td>\n",
       "      <td>0.911050</td>\n",
       "      <td>0.993212</td>\n",
       "      <td>0.062582</td>\n",
       "      <td>0.115164</td>\n",
       "      <td>0.107804</td>\n",
       "    </tr>\n",
       "    <tr>\n",
       "      <th>min</th>\n",
       "      <td>-4.132884</td>\n",
       "      <td>-4.699795</td>\n",
       "      <td>-7.143998</td>\n",
       "      <td>-0.558178</td>\n",
       "      <td>-1.290758</td>\n",
       "      <td>-0.872392</td>\n",
       "    </tr>\n",
       "    <tr>\n",
       "      <th>25%</th>\n",
       "      <td>-0.550360</td>\n",
       "      <td>-0.592600</td>\n",
       "      <td>-0.554104</td>\n",
       "      <td>-0.028558</td>\n",
       "      <td>-0.053145</td>\n",
       "      <td>-0.027565</td>\n",
       "    </tr>\n",
       "    <tr>\n",
       "      <th>50%</th>\n",
       "      <td>-0.002812</td>\n",
       "      <td>-0.078801</td>\n",
       "      <td>0.000000</td>\n",
       "      <td>0.001985</td>\n",
       "      <td>-0.001222</td>\n",
       "      <td>0.003589</td>\n",
       "    </tr>\n",
       "    <tr>\n",
       "      <th>75%</th>\n",
       "      <td>0.571586</td>\n",
       "      <td>0.456261</td>\n",
       "      <td>0.556336</td>\n",
       "      <td>0.031307</td>\n",
       "      <td>0.050702</td>\n",
       "      <td>0.040852</td>\n",
       "    </tr>\n",
       "    <tr>\n",
       "      <th>max</th>\n",
       "      <td>4.985548</td>\n",
       "      <td>4.245151</td>\n",
       "      <td>5.171739</td>\n",
       "      <td>0.849255</td>\n",
       "      <td>1.255328</td>\n",
       "      <td>1.006019</td>\n",
       "    </tr>\n",
       "  </tbody>\n",
       "</table>\n",
       "</div>"
      ],
      "text/plain": [
       "              AccX         AccY         AccZ        GyroX        GyroY  \\\n",
       "count  3339.000000  3339.000000  3339.000000  3339.000000  3339.000000   \n",
       "mean      0.033422    -0.074607     0.012268     0.001184    -0.001189   \n",
       "std       0.979369     0.911050     0.993212     0.062582     0.115164   \n",
       "min      -4.132884    -4.699795    -7.143998    -0.558178    -1.290758   \n",
       "25%      -0.550360    -0.592600    -0.554104    -0.028558    -0.053145   \n",
       "50%      -0.002812    -0.078801     0.000000     0.001985    -0.001222   \n",
       "75%       0.571586     0.456261     0.556336     0.031307     0.050702   \n",
       "max       4.985548     4.245151     5.171739     0.849255     1.255328   \n",
       "\n",
       "             GyroZ  \n",
       "count  3339.000000  \n",
       "mean      0.008887  \n",
       "std       0.107804  \n",
       "min      -0.872392  \n",
       "25%      -0.027565  \n",
       "50%       0.003589  \n",
       "75%       0.040852  \n",
       "max       1.006019  "
      ]
     },
     "execution_count": 7,
     "metadata": {},
     "output_type": "execute_result"
    }
   ],
   "source": [
    "train_data = dataframe.drop('Timestamp', axis=1)\n",
    "train_data.describe()\n"
   ]
  },
  {
   "cell_type": "code",
   "execution_count": 8,
   "metadata": {},
   "outputs": [
    {
     "data": {
      "text/html": [
       "<div>\n",
       "<style scoped>\n",
       "    .dataframe tbody tr th:only-of-type {\n",
       "        vertical-align: middle;\n",
       "    }\n",
       "\n",
       "    .dataframe tbody tr th {\n",
       "        vertical-align: top;\n",
       "    }\n",
       "\n",
       "    .dataframe thead th {\n",
       "        text-align: right;\n",
       "    }\n",
       "</style>\n",
       "<table border=\"1\" class=\"dataframe\">\n",
       "  <thead>\n",
       "    <tr style=\"text-align: right;\">\n",
       "      <th></th>\n",
       "      <th>count</th>\n",
       "      <th>mean</th>\n",
       "      <th>std</th>\n",
       "      <th>min</th>\n",
       "      <th>25%</th>\n",
       "      <th>50%</th>\n",
       "      <th>75%</th>\n",
       "      <th>max</th>\n",
       "    </tr>\n",
       "  </thead>\n",
       "  <tbody>\n",
       "    <tr>\n",
       "      <th>AccX</th>\n",
       "      <td>3339.0</td>\n",
       "      <td>0.033422</td>\n",
       "      <td>0.979369</td>\n",
       "      <td>-4.132884</td>\n",
       "      <td>-0.550360</td>\n",
       "      <td>-0.002812</td>\n",
       "      <td>0.571586</td>\n",
       "      <td>4.985548</td>\n",
       "    </tr>\n",
       "    <tr>\n",
       "      <th>AccY</th>\n",
       "      <td>3339.0</td>\n",
       "      <td>-0.074607</td>\n",
       "      <td>0.911050</td>\n",
       "      <td>-4.699795</td>\n",
       "      <td>-0.592600</td>\n",
       "      <td>-0.078801</td>\n",
       "      <td>0.456261</td>\n",
       "      <td>4.245151</td>\n",
       "    </tr>\n",
       "    <tr>\n",
       "      <th>AccZ</th>\n",
       "      <td>3339.0</td>\n",
       "      <td>0.012268</td>\n",
       "      <td>0.993212</td>\n",
       "      <td>-7.143998</td>\n",
       "      <td>-0.554104</td>\n",
       "      <td>0.000000</td>\n",
       "      <td>0.556336</td>\n",
       "      <td>5.171739</td>\n",
       "    </tr>\n",
       "    <tr>\n",
       "      <th>GyroX</th>\n",
       "      <td>3339.0</td>\n",
       "      <td>0.001184</td>\n",
       "      <td>0.062582</td>\n",
       "      <td>-0.558178</td>\n",
       "      <td>-0.028558</td>\n",
       "      <td>0.001985</td>\n",
       "      <td>0.031307</td>\n",
       "      <td>0.849255</td>\n",
       "    </tr>\n",
       "    <tr>\n",
       "      <th>GyroY</th>\n",
       "      <td>3339.0</td>\n",
       "      <td>-0.001189</td>\n",
       "      <td>0.115164</td>\n",
       "      <td>-1.290758</td>\n",
       "      <td>-0.053145</td>\n",
       "      <td>-0.001222</td>\n",
       "      <td>0.050702</td>\n",
       "      <td>1.255328</td>\n",
       "    </tr>\n",
       "    <tr>\n",
       "      <th>GyroZ</th>\n",
       "      <td>3339.0</td>\n",
       "      <td>0.008887</td>\n",
       "      <td>0.107804</td>\n",
       "      <td>-0.872392</td>\n",
       "      <td>-0.027565</td>\n",
       "      <td>0.003589</td>\n",
       "      <td>0.040852</td>\n",
       "      <td>1.006019</td>\n",
       "    </tr>\n",
       "  </tbody>\n",
       "</table>\n",
       "</div>"
      ],
      "text/plain": [
       "        count      mean       std       min       25%       50%       75%  \\\n",
       "AccX   3339.0  0.033422  0.979369 -4.132884 -0.550360 -0.002812  0.571586   \n",
       "AccY   3339.0 -0.074607  0.911050 -4.699795 -0.592600 -0.078801  0.456261   \n",
       "AccZ   3339.0  0.012268  0.993212 -7.143998 -0.554104  0.000000  0.556336   \n",
       "GyroX  3339.0  0.001184  0.062582 -0.558178 -0.028558  0.001985  0.031307   \n",
       "GyroY  3339.0 -0.001189  0.115164 -1.290758 -0.053145 -0.001222  0.050702   \n",
       "GyroZ  3339.0  0.008887  0.107804 -0.872392 -0.027565  0.003589  0.040852   \n",
       "\n",
       "            max  \n",
       "AccX   4.985548  \n",
       "AccY   4.245151  \n",
       "AccZ   5.171739  \n",
       "GyroX  0.849255  \n",
       "GyroY  1.255328  \n",
       "GyroZ  1.006019  "
      ]
     },
     "execution_count": 8,
     "metadata": {},
     "output_type": "execute_result"
    }
   ],
   "source": [
    "train_data.describe().T"
   ]
  },
  {
   "cell_type": "code",
   "execution_count": 9,
   "metadata": {},
   "outputs": [
    {
     "data": {
      "text/plain": [
       "AccX     float64\n",
       "AccY     float64\n",
       "AccZ     float64\n",
       "GyroX    float64\n",
       "GyroY    float64\n",
       "GyroZ    float64\n",
       "Class     object\n",
       "dtype: object"
      ]
     },
     "execution_count": 9,
     "metadata": {},
     "output_type": "execute_result"
    }
   ],
   "source": [
    "train_data.dtypes"
   ]
  },
  {
   "cell_type": "code",
   "execution_count": 10,
   "metadata": {},
   "outputs": [],
   "source": [
    "train_data.replace(np.nan, 0, inplace=True)"
   ]
  },
  {
   "cell_type": "code",
   "execution_count": 11,
   "metadata": {},
   "outputs": [
    {
     "data": {
      "text/plain": [
       "AccX     False\n",
       "AccY     False\n",
       "AccZ     False\n",
       "GyroX    False\n",
       "GyroY    False\n",
       "GyroZ    False\n",
       "Class    False\n",
       "dtype: bool"
      ]
     },
     "execution_count": 11,
     "metadata": {},
     "output_type": "execute_result"
    }
   ],
   "source": [
    "train_data.sum().isnull()"
   ]
  },
  {
   "cell_type": "code",
   "execution_count": 12,
   "metadata": {},
   "outputs": [
    {
     "name": "stdout",
     "output_type": "stream",
     "text": [
      "(3339, 7)\n",
      "Index(['AccX', 'AccY', 'AccZ', 'GyroX', 'GyroY', 'GyroZ', 'Class'], dtype='object')\n"
     ]
    },
    {
     "data": {
      "text/html": [
       "<div>\n",
       "<style scoped>\n",
       "    .dataframe tbody tr th:only-of-type {\n",
       "        vertical-align: middle;\n",
       "    }\n",
       "\n",
       "    .dataframe tbody tr th {\n",
       "        vertical-align: top;\n",
       "    }\n",
       "\n",
       "    .dataframe thead th {\n",
       "        text-align: right;\n",
       "    }\n",
       "</style>\n",
       "<table border=\"1\" class=\"dataframe\">\n",
       "  <thead>\n",
       "    <tr style=\"text-align: right;\">\n",
       "      <th></th>\n",
       "      <th>AccX</th>\n",
       "      <th>AccY</th>\n",
       "      <th>AccZ</th>\n",
       "      <th>GyroX</th>\n",
       "      <th>GyroY</th>\n",
       "      <th>GyroZ</th>\n",
       "      <th>Class</th>\n",
       "    </tr>\n",
       "  </thead>\n",
       "  <tbody>\n",
       "    <tr>\n",
       "      <th>0</th>\n",
       "      <td>0.000000</td>\n",
       "      <td>0.000000</td>\n",
       "      <td>0.000000</td>\n",
       "      <td>0.059407</td>\n",
       "      <td>-0.174707</td>\n",
       "      <td>0.101938</td>\n",
       "      <td>NORMAL</td>\n",
       "    </tr>\n",
       "    <tr>\n",
       "      <th>1</th>\n",
       "      <td>-1.624864</td>\n",
       "      <td>-1.082492</td>\n",
       "      <td>-0.204183</td>\n",
       "      <td>-0.028558</td>\n",
       "      <td>0.051313</td>\n",
       "      <td>0.135536</td>\n",
       "      <td>NORMAL</td>\n",
       "    </tr>\n",
       "    <tr>\n",
       "      <th>2</th>\n",
       "      <td>-0.594660</td>\n",
       "      <td>-0.122410</td>\n",
       "      <td>0.220502</td>\n",
       "      <td>-0.019395</td>\n",
       "      <td>-0.029322</td>\n",
       "      <td>0.087888</td>\n",
       "      <td>NORMAL</td>\n",
       "    </tr>\n",
       "    <tr>\n",
       "      <th>3</th>\n",
       "      <td>0.738478</td>\n",
       "      <td>-0.228456</td>\n",
       "      <td>0.667732</td>\n",
       "      <td>0.069791</td>\n",
       "      <td>-0.029932</td>\n",
       "      <td>0.054902</td>\n",
       "      <td>NORMAL</td>\n",
       "    </tr>\n",
       "    <tr>\n",
       "      <th>4</th>\n",
       "      <td>0.101741</td>\n",
       "      <td>0.777568</td>\n",
       "      <td>-0.066730</td>\n",
       "      <td>0.030696</td>\n",
       "      <td>-0.003665</td>\n",
       "      <td>0.054902</td>\n",
       "      <td>NORMAL</td>\n",
       "    </tr>\n",
       "    <tr>\n",
       "      <th>...</th>\n",
       "      <td>...</td>\n",
       "      <td>...</td>\n",
       "      <td>...</td>\n",
       "      <td>...</td>\n",
       "      <td>...</td>\n",
       "      <td>...</td>\n",
       "      <td>...</td>\n",
       "    </tr>\n",
       "    <tr>\n",
       "      <th>3324</th>\n",
       "      <td>0.932034</td>\n",
       "      <td>0.460150</td>\n",
       "      <td>-0.697646</td>\n",
       "      <td>-0.060934</td>\n",
       "      <td>-0.039095</td>\n",
       "      <td>-0.012294</td>\n",
       "      <td>SLOW</td>\n",
       "    </tr>\n",
       "    <tr>\n",
       "      <th>3325</th>\n",
       "      <td>1.654305</td>\n",
       "      <td>0.055435</td>\n",
       "      <td>-1.695218</td>\n",
       "      <td>-0.047495</td>\n",
       "      <td>0.076969</td>\n",
       "      <td>-0.025122</td>\n",
       "      <td>SLOW</td>\n",
       "    </tr>\n",
       "    <tr>\n",
       "      <th>3326</th>\n",
       "      <td>1.531926</td>\n",
       "      <td>0.417679</td>\n",
       "      <td>0.006208</td>\n",
       "      <td>-0.030391</td>\n",
       "      <td>0.244957</td>\n",
       "      <td>0.010919</td>\n",
       "      <td>SLOW</td>\n",
       "    </tr>\n",
       "    <tr>\n",
       "      <th>3327</th>\n",
       "      <td>0.170434</td>\n",
       "      <td>0.384533</td>\n",
       "      <td>0.657507</td>\n",
       "      <td>0.001374</td>\n",
       "      <td>0.047037</td>\n",
       "      <td>-0.066661</td>\n",
       "      <td>SLOW</td>\n",
       "    </tr>\n",
       "    <tr>\n",
       "      <th>3328</th>\n",
       "      <td>0.369287</td>\n",
       "      <td>0.219024</td>\n",
       "      <td>-0.376062</td>\n",
       "      <td>-0.070097</td>\n",
       "      <td>-0.012217</td>\n",
       "      <td>-0.086208</td>\n",
       "      <td>SLOW</td>\n",
       "    </tr>\n",
       "  </tbody>\n",
       "</table>\n",
       "<p>3329 rows × 7 columns</p>\n",
       "</div>"
      ],
      "text/plain": [
       "          AccX      AccY      AccZ     GyroX     GyroY     GyroZ   Class\n",
       "0     0.000000  0.000000  0.000000  0.059407 -0.174707  0.101938  NORMAL\n",
       "1    -1.624864 -1.082492 -0.204183 -0.028558  0.051313  0.135536  NORMAL\n",
       "2    -0.594660 -0.122410  0.220502 -0.019395 -0.029322  0.087888  NORMAL\n",
       "3     0.738478 -0.228456  0.667732  0.069791 -0.029932  0.054902  NORMAL\n",
       "4     0.101741  0.777568 -0.066730  0.030696 -0.003665  0.054902  NORMAL\n",
       "...        ...       ...       ...       ...       ...       ...     ...\n",
       "3324  0.932034  0.460150 -0.697646 -0.060934 -0.039095 -0.012294    SLOW\n",
       "3325  1.654305  0.055435 -1.695218 -0.047495  0.076969 -0.025122    SLOW\n",
       "3326  1.531926  0.417679  0.006208 -0.030391  0.244957  0.010919    SLOW\n",
       "3327  0.170434  0.384533  0.657507  0.001374  0.047037 -0.066661    SLOW\n",
       "3328  0.369287  0.219024 -0.376062 -0.070097 -0.012217 -0.086208    SLOW\n",
       "\n",
       "[3329 rows x 7 columns]"
      ]
     },
     "execution_count": 12,
     "metadata": {},
     "output_type": "execute_result"
    }
   ],
   "source": [
    "print(train_data.shape)\n",
    "print(train_data.columns)\n",
    "train_data.head(-10)"
   ]
  },
  {
   "cell_type": "code",
   "execution_count": 13,
   "metadata": {},
   "outputs": [
    {
     "name": "stdout",
     "output_type": "stream",
     "text": [
      "<class 'pandas.core.frame.DataFrame'>\n",
      "RangeIndex: 3339 entries, 0 to 3338\n",
      "Data columns (total 7 columns):\n",
      " #   Column  Non-Null Count  Dtype  \n",
      "---  ------  --------------  -----  \n",
      " 0   AccX    3339 non-null   float64\n",
      " 1   AccY    3339 non-null   float64\n",
      " 2   AccZ    3339 non-null   float64\n",
      " 3   GyroX   3339 non-null   float64\n",
      " 4   GyroY   3339 non-null   float64\n",
      " 5   GyroZ   3339 non-null   float64\n",
      " 6   Class   3339 non-null   object \n",
      "dtypes: float64(6), object(1)\n",
      "memory usage: 182.7+ KB\n"
     ]
    }
   ],
   "source": [
    "train_data.info(verbose=True)"
   ]
  },
  {
   "cell_type": "code",
   "execution_count": 14,
   "metadata": {},
   "outputs": [
    {
     "data": {
      "text/plain": [
       "AccX     0\n",
       "AccY     0\n",
       "AccZ     0\n",
       "GyroX    0\n",
       "GyroY    0\n",
       "GyroZ    0\n",
       "Class    0\n",
       "dtype: int64"
      ]
     },
     "execution_count": 14,
     "metadata": {},
     "output_type": "execute_result"
    }
   ],
   "source": [
    "train_data.isnull().sum()"
   ]
  },
  {
   "cell_type": "code",
   "execution_count": 15,
   "metadata": {},
   "outputs": [
    {
     "name": "stdout",
     "output_type": "stream",
     "text": [
      "Class\n",
      "AGGRESSIVE    1113\n",
      "NORMAL        1113\n",
      "SLOW          1113\n",
      "dtype: int64\n"
     ]
    }
   ],
   "source": [
    "print(train_data.groupby('Class').size())"
   ]
  },
  {
   "cell_type": "code",
   "execution_count": 16,
   "metadata": {},
   "outputs": [
    {
     "data": {
      "image/png": "[encoded data removed]",
      "text/plain": [
       "<Figure size 1440x1440 with 6 Axes>"
      ]
     },
     "metadata": {},
     "output_type": "display_data"
    }
   ],
   "source": [
    "p_hist = train_data.hist(figsize = (20,20))"
   ]
  },
  {
   "cell_type": "code",
   "execution_count": 27,
   "metadata": {},
   "outputs": [
    {
     "data": {
      "image/png": "[encoded data removed]",
      "text/plain": [
       "<Figure size 432x288 with 6 Axes>"
      ]
     },
     "metadata": {},
     "output_type": "display_data"
    }
   ],
   "source": [
    "train_data.plot(kind='box', subplots=True, layout=(2,3), sharex=False, sharey=False)\n",
    "pyplot.show()"
   ]
  },
  {
   "cell_type": "code",
   "execution_count": 28,
   "metadata": {},
   "outputs": [
    {
     "data": {
      "image/png": "[encoded data removed]",
      "text/plain": [
       "<Figure size 432x288 with 36 Axes>"
      ]
     },
     "metadata": {},
     "output_type": "display_data"
    }
   ],
   "source": [
    "scatter_matrix(train_data)\n",
    "pyplot.show()"
   ]
  },
  {
   "cell_type": "markdown",
   "metadata": {},
   "source": [
    "Now need to perform clustering and dimensionality reduction. \n",
    "\n",
    "Also need to find outliers and remove any existing outliers."
   ]
  },
  {
   "cell_type": "code",
   "execution_count": 35,
   "metadata": {},
   "outputs": [
    {
     "name": "stdout",
     "output_type": "stream",
     "text": [
      "          AccX      AccY      AccZ     GyroX     GyroY     GyroZ\n",
      "0     0.000000  0.000000  0.000000  0.059407 -0.174707  0.101938\n",
      "1    -1.624864 -1.082492 -0.204183 -0.028558  0.051313  0.135536\n",
      "2    -0.594660 -0.122410  0.220502 -0.019395 -0.029322  0.087888\n",
      "3     0.738478 -0.228456  0.667732  0.069791 -0.029932  0.054902\n",
      "4     0.101741  0.777568 -0.066730  0.030696 -0.003665  0.054902\n",
      "...        ...       ...       ...       ...       ...       ...\n",
      "3334  0.431670  0.539584  0.179422  0.014813 -0.080023  0.004811\n",
      "3335 -1.265742  0.517372 -0.681800  0.037415 -0.029932 -0.019013\n",
      "3336  0.788267  0.265228 -1.680777  0.024587 -0.001833  0.034132\n",
      "3337  0.312490 -0.195053 -0.586542  0.082620  0.015882  0.020693\n",
      "3338  0.534567 -0.214498  0.696875  0.026420  0.212581  0.128816\n",
      "\n",
      "[3339 rows x 6 columns]\n",
      "       Class\n",
      "0     NORMAL\n",
      "1     NORMAL\n",
      "2     NORMAL\n",
      "3     NORMAL\n",
      "4     NORMAL\n",
      "...      ...\n",
      "3334    SLOW\n",
      "3335    SLOW\n",
      "3336    SLOW\n",
      "3337    SLOW\n",
      "3338    SLOW\n",
      "\n",
      "[3339 rows x 1 columns]\n"
     ]
    }
   ],
   "source": [
    "# Declaring feature variables\n",
    "\n",
    "\"\"\" As we know Class is catagorical in nature\n",
    "we need to drop it, and then assign to our target variable \"\"\"\n",
    "\n",
    "X = train_data[['AccX', 'AccY', 'AccZ', 'GyroX', 'GyroY', 'GyroZ']]\n",
    "print(X)\n",
    "y = train_data[['Class']]\n",
    "print(y)\n",
    "\n",
    "X_copy = train_data[['AccX', 'AccY', 'AccZ', 'GyroX', 'GyroY', 'GyroZ']]\n",
    "\n",
    "y_copy = train_data[['Class']]\n",
    "\n",
    "X_train, X_test, y_train, y_test = train_test_split(X, y, test_size = 0.20, random_state = 42)\n",
    "\n",
    "X_train, X_test, y_train, y_test = train_test_split(X_copy, y_copy, test_size = 0.30, random_state = 42)\n"
   ]
  },
  {
   "cell_type": "code",
   "execution_count": 36,
   "metadata": {},
   "outputs": [
    {
     "data": {
      "text/plain": [
       "[array([-4.132884 , -3.7373357, -3.6858613, ...,  4.8323727,  4.933154 ,\n",
       "         4.9855475]),\n",
       " array([-4.6997952, -3.7307277, -3.7300625, ...,  3.6508338,  4.058062 ,\n",
       "         4.245151 ]),\n",
       " array([-7.143998 , -4.188234 , -4.0968165, ...,  4.906192 ,  4.95432  ,\n",
       "         5.1717386]),\n",
       " array([-5.58178100e-01, -4.12792180e-01, -3.29103650e-01, -3.22384120e-01,\n",
       "        -2.99782130e-01, -2.93062600e-01, -2.87564800e-01, -2.81456170e-01,\n",
       "        -2.75958400e-01, -2.75347500e-01, -2.72293180e-01, -2.60686760e-01,\n",
       "        -2.55799830e-01, -2.52134620e-01, -2.46636840e-01, -2.31976080e-01,\n",
       "        -2.09374070e-01, -2.06930610e-01, -1.95935030e-01, -1.89826370e-01,\n",
       "        -1.76387340e-01, -1.75776480e-01, -1.69667830e-01, -1.67835220e-01,\n",
       "        -1.67224360e-01, -1.62337440e-01, -1.61726580e-01, -1.61115700e-01,\n",
       "        -1.60504850e-01, -1.58061390e-01, -1.56228780e-01, -1.55007050e-01,\n",
       "        -1.53174460e-01, -1.52563600e-01, -1.50120140e-01, -1.48287530e-01,\n",
       "        -1.47676680e-01, -1.47065800e-01, -1.46454950e-01, -1.45233210e-01,\n",
       "        -1.44011480e-01, -1.43400610e-01, -1.41568020e-01, -1.40957160e-01,\n",
       "        -1.39735430e-01, -1.38513700e-01, -1.37902830e-01, -1.37291970e-01,\n",
       "        -1.36070240e-01, -1.34848500e-01, -1.33626770e-01, -1.31794170e-01,\n",
       "        -1.31183310e-01, -1.30572450e-01, -1.29961580e-01, -1.29350720e-01,\n",
       "        -1.28739850e-01, -1.27518120e-01, -1.26907260e-01, -1.25074650e-01,\n",
       "        -1.23852930e-01, -1.22631200e-01, -1.22020334e-01, -1.20798600e-01,\n",
       "        -1.18355140e-01, -1.17744274e-01, -1.16522540e-01, -1.15911680e-01,\n",
       "        -1.15300810e-01, -1.14689946e-01, -1.14079090e-01, -1.13468220e-01,\n",
       "        -1.12857360e-01, -1.12246490e-01, -1.11635625e-01, -1.11024760e-01,\n",
       "        -1.10413894e-01, -1.09803030e-01, -1.09192160e-01, -1.08581300e-01,\n",
       "        -1.07970430e-01, -1.07359566e-01, -1.06748700e-01, -1.06137834e-01,\n",
       "        -1.04916100e-01, -1.04305240e-01, -1.03694370e-01, -1.03083510e-01,\n",
       "        -1.02472650e-01, -1.01861780e-01, -1.01250920e-01, -1.00640050e-01,\n",
       "        -1.00029185e-01, -9.94183200e-02, -9.88074540e-02, -9.81965900e-02,\n",
       "        -9.69748600e-02, -9.63639900e-02, -9.57531260e-02, -9.51422600e-02,\n",
       "        -9.45313950e-02, -9.39205300e-02, -9.33096600e-02, -9.26988000e-02,\n",
       "        -9.20879400e-02, -9.14770740e-02, -9.08662100e-02, -9.02553400e-02,\n",
       "        -8.96444800e-02, -8.90336100e-02, -8.78118800e-02, -8.72010140e-02,\n",
       "        -8.65901500e-02, -8.59792800e-02, -8.53684200e-02, -8.47575500e-02,\n",
       "        -8.41466860e-02, -8.29249550e-02, -8.23140900e-02, -8.17032200e-02,\n",
       "        -8.10923600e-02, -8.04815000e-02, -7.98706340e-02, -7.92597700e-02,\n",
       "        -7.86489000e-02, -7.80380400e-02, -7.74271700e-02, -7.68163060e-02,\n",
       "        -7.62054400e-02, -7.55945740e-02, -7.49837100e-02, -7.43728400e-02,\n",
       "        -7.37619800e-02, -7.31511100e-02, -7.25402460e-02, -7.19293800e-02,\n",
       "        -7.13185150e-02, -7.07076500e-02, -7.00967800e-02, -6.94859250e-02,\n",
       "        -6.88750600e-02, -6.82641940e-02, -6.76533300e-02, -6.70424600e-02,\n",
       "        -6.64316000e-02, -6.58207300e-02, -6.52098660e-02, -6.45990000e-02,\n",
       "        -6.39881340e-02, -6.33772700e-02, -6.27664000e-02, -6.21555370e-02,\n",
       "        -6.15446700e-02, -6.09338100e-02, -6.03229440e-02, -5.97120800e-02,\n",
       "        -5.91012130e-02, -5.84903470e-02, -5.78794800e-02, -5.72686160e-02,\n",
       "        -5.66577500e-02, -5.60468850e-02, -5.54360230e-02, -5.48251570e-02,\n",
       "        -5.42142900e-02, -5.36034260e-02, -5.29925600e-02, -5.23816940e-02,\n",
       "        -5.17708300e-02, -5.11599630e-02, -5.05490970e-02, -4.99382350e-02,\n",
       "        -4.93273700e-02, -4.87165040e-02, -4.81056400e-02, -4.74947730e-02,\n",
       "        -4.68839070e-02, -4.62730400e-02, -4.56621760e-02, -4.50513100e-02,\n",
       "        -4.44404500e-02, -4.38295830e-02, -4.32187170e-02, -4.26078500e-02,\n",
       "        -4.19969860e-02, -4.13861200e-02, -4.07752540e-02, -4.01643900e-02,\n",
       "        -3.95535230e-02, -3.89426600e-02, -3.83317950e-02, -3.77209300e-02,\n",
       "        -3.71100640e-02, -3.64992000e-02, -3.58883330e-02, -3.52774670e-02,\n",
       "        -3.46666000e-02, -3.40557360e-02, -3.34448740e-02, -3.28340100e-02,\n",
       "        -3.22231430e-02, -3.16122770e-02, -3.10014110e-02, -3.03905460e-02,\n",
       "        -2.97796800e-02, -2.91688160e-02, -2.85579500e-02, -2.79470850e-02,\n",
       "        -2.73362200e-02, -2.67253540e-02, -2.61144900e-02, -2.55036240e-02,\n",
       "        -2.48927590e-02, -2.42818930e-02, -2.36710300e-02, -2.30601630e-02,\n",
       "        -2.24492980e-02, -2.18384320e-02, -2.12275670e-02, -2.06167030e-02,\n",
       "        -2.00058370e-02, -1.93949710e-02, -1.87841060e-02, -1.81732400e-02,\n",
       "        -1.75623760e-02, -1.69515100e-02, -1.63406450e-02, -1.57297800e-02,\n",
       "        -1.51189150e-02, -1.45080500e-02, -1.38971840e-02, -1.32863190e-02,\n",
       "        -1.26754540e-02, -1.20645880e-02, -1.14537240e-02, -1.08428580e-02,\n",
       "        -1.02319930e-02, -9.62112800e-03, -9.01026300e-03, -8.39939700e-03,\n",
       "        -7.78853200e-03, -7.17766700e-03, -6.56680200e-03, -5.95593600e-03,\n",
       "        -5.34507100e-03, -4.73420600e-03, -4.12334000e-03, -3.51247500e-03,\n",
       "        -2.90161000e-03, -2.29074500e-03, -1.67987900e-03, -1.06901400e-03,\n",
       "        -4.58000000e-04,  1.53000000e-04,  7.64000000e-04,  1.37444700e-03,\n",
       "         1.98531200e-03,  2.59617700e-03,  3.20704300e-03,  3.81790800e-03,\n",
       "         4.42877300e-03,  5.03963800e-03,  5.65050400e-03,  6.26136900e-03,\n",
       "         6.87223400e-03,  7.48309900e-03,  8.09396400e-03,  8.70483000e-03,\n",
       "         9.31569500e-03,  9.92656000e-03,  1.05374250e-02,  1.11482910e-02,\n",
       "         1.17591560e-02,  1.23700210e-02,  1.29808870e-02,  1.35917510e-02,\n",
       "         1.42026170e-02,  1.48134820e-02,  1.54243480e-02,  1.60352120e-02,\n",
       "         1.66460780e-02,  1.72569440e-02,  1.78678100e-02,  1.84786730e-02,\n",
       "         1.90895390e-02,  1.97004040e-02,  2.03112700e-02,  2.09221360e-02,\n",
       "         2.15330000e-02,  2.21438650e-02,  2.27547300e-02,  2.33655960e-02,\n",
       "         2.39764600e-02,  2.45873260e-02,  2.51981910e-02,  2.58090570e-02,\n",
       "         2.64199230e-02,  2.70307860e-02,  2.76416520e-02,  2.82525180e-02,\n",
       "         2.88633830e-02,  2.94742470e-02,  3.00851130e-02,  3.06959790e-02,\n",
       "         3.13068440e-02,  3.19177100e-02,  3.25285760e-02,  3.31394400e-02,\n",
       "         3.37503030e-02,  3.43611700e-02,  3.49720340e-02,  3.55829000e-02,\n",
       "         3.61937660e-02,  3.68046300e-02,  3.74154970e-02,  3.80263630e-02,\n",
       "         3.86372300e-02,  3.92480900e-02,  3.98589560e-02,  4.04698200e-02,\n",
       "         4.10806870e-02,  4.16915530e-02,  4.23024200e-02,  4.29132840e-02,\n",
       "         4.35241500e-02,  4.41350150e-02,  4.47458770e-02,  4.53567430e-02,\n",
       "         4.59676100e-02,  4.65784740e-02,  4.71893400e-02,  4.78002060e-02,\n",
       "         4.84110700e-02,  4.90219370e-02,  4.96328030e-02,  5.02436700e-02,\n",
       "         5.08545300e-02,  5.14653960e-02,  5.20762600e-02,  5.26871270e-02,\n",
       "         5.32979930e-02,  5.39088600e-02,  5.45197240e-02,  5.51305900e-02,\n",
       "         5.57414550e-02,  5.63523170e-02,  5.69631830e-02,  5.75740500e-02,\n",
       "         5.81849140e-02,  5.87957800e-02,  5.94066460e-02,  6.00175100e-02,\n",
       "         6.06283770e-02,  6.12392430e-02,  6.18501040e-02,  6.24609700e-02,\n",
       "         6.30718400e-02,  6.36827050e-02,  6.42935600e-02,  6.49044300e-02,\n",
       "         6.55152950e-02,  6.61261600e-02,  6.67370260e-02,  6.73478900e-02,\n",
       "         6.79587600e-02,  6.85696200e-02,  6.91804900e-02,  6.97913540e-02,\n",
       "         7.04022200e-02,  7.10130860e-02,  7.16239500e-02,  7.22348200e-02,\n",
       "         7.28456800e-02,  7.34565500e-02,  7.40674140e-02,  7.46782800e-02,\n",
       "         7.52891450e-02,  7.59000000e-02,  7.65108700e-02,  7.71217350e-02,\n",
       "         7.77326000e-02,  7.83434660e-02,  7.89543300e-02,  7.95652000e-02,\n",
       "         8.01760600e-02,  8.07869300e-02,  8.13977940e-02,  8.20086600e-02,\n",
       "         8.26195250e-02,  8.32303900e-02,  8.38412600e-02,  8.44521200e-02,\n",
       "         8.50629900e-02,  8.56738540e-02,  8.62847200e-02,  8.68955800e-02,\n",
       "         8.75064400e-02,  8.87281750e-02,  8.93390400e-02,  8.99499060e-02,\n",
       "         9.11716400e-02,  9.17825000e-02,  9.23933700e-02,  9.30042340e-02,\n",
       "         9.36151000e-02,  9.42259650e-02,  9.48368300e-02,  9.54477000e-02,\n",
       "         9.60585600e-02,  9.66694300e-02,  9.72802900e-02,  9.78911500e-02,\n",
       "         9.85020200e-02,  9.91128800e-02,  9.97237500e-02,  1.00334615e-01,\n",
       "         1.00945480e-01,  1.01556346e-01,  1.02167210e-01,  1.02778080e-01,\n",
       "         1.03999810e-01,  1.04610674e-01,  1.05221540e-01,  1.05832405e-01,\n",
       "         1.06443270e-01,  1.07054140e-01,  1.08886730e-01,  1.10108460e-01,\n",
       "         1.10719320e-01,  1.11330190e-01,  1.12551920e-01,  1.13162786e-01,\n",
       "         1.13773650e-01,  1.14384520e-01,  1.14995380e-01,  1.15606250e-01,\n",
       "         1.16217114e-01,  1.18049710e-01,  1.19271440e-01,  1.20493166e-01,\n",
       "         1.21104030e-01,  1.21714900e-01,  1.22325760e-01,  1.22936630e-01,\n",
       "         1.23547494e-01,  1.24158360e-01,  1.25380100e-01,  1.26601820e-01,\n",
       "         1.27212690e-01,  1.28434420e-01,  1.29045280e-01,  1.29656150e-01,\n",
       "         1.30267010e-01,  1.30877880e-01,  1.31488740e-01,  1.33321340e-01,\n",
       "         1.33932200e-01,  1.35153930e-01,  1.36375670e-01,  1.38208260e-01,\n",
       "         1.39429990e-01,  1.40651720e-01,  1.42484320e-01,  1.45538640e-01,\n",
       "         1.46149520e-01,  1.47982100e-01,  1.49203840e-01,  1.49814700e-01,\n",
       "         1.50425570e-01,  1.53479890e-01,  1.55923350e-01,  1.57755960e-01,\n",
       "         1.58977690e-01,  1.59588550e-01,  1.65697200e-01,  1.66308060e-01,\n",
       "         1.66918930e-01,  1.67529790e-01,  1.68140660e-01,  1.69973250e-01,\n",
       "         1.70584110e-01,  1.71805840e-01,  1.78525370e-01,  1.84023160e-01,\n",
       "         1.87077480e-01,  1.90131810e-01,  1.92575280e-01,  1.94407870e-01,\n",
       "         1.95018720e-01,  1.95629600e-01,  2.02349110e-01,  2.04792570e-01,\n",
       "         2.05403430e-01,  2.06014300e-01,  2.07846900e-01,  2.09068630e-01,\n",
       "         2.13955550e-01,  2.14566420e-01,  2.15788140e-01,  2.26783720e-01,\n",
       "         2.31670650e-01,  2.47553140e-01,  2.81761600e-01,  3.30019950e-01,\n",
       "         3.49567620e-01,  5.70090000e-01,  8.49255400e-01]),\n",
       " array([-1.29075830e+00, -1.12582470e+00, -8.01455200e-01, -6.60345300e-01,\n",
       "        -6.10254400e-01, -5.35728800e-01, -5.34507100e-01, -5.21068040e-01,\n",
       "        -5.06407260e-01, -5.05796430e-01, -4.94189980e-01, -4.44099040e-01,\n",
       "        -4.34936050e-01, -4.28827400e-01, -4.25773080e-01, -4.01949350e-01,\n",
       "        -3.75071260e-01, -3.70184330e-01, -3.54912700e-01, -3.53080120e-01,\n",
       "        -3.51858380e-01, -3.40251950e-01, -3.32310700e-01, -3.28645500e-01,\n",
       "        -3.28034640e-01, -3.26202030e-01, -3.23758570e-01, -3.21926000e-01,\n",
       "        -3.20704250e-01, -3.17649930e-01, -3.14595600e-01, -3.13373860e-01,\n",
       "        -3.07876080e-01, -3.06043480e-01, -3.01767440e-01, -2.99934830e-01,\n",
       "        -2.99323980e-01, -2.97491370e-01, -2.90160980e-01, -2.89550130e-01,\n",
       "        -2.83441480e-01, -2.82219740e-01, -2.71224170e-01, -2.68780700e-01,\n",
       "        -2.66948100e-01, -2.64504640e-01, -2.63282920e-01, -2.61450320e-01,\n",
       "        -2.60839460e-01, -2.60228600e-01, -2.59617720e-01, -2.57785140e-01,\n",
       "        -2.57174250e-01, -2.55952540e-01, -2.49233020e-01, -2.45567830e-01,\n",
       "        -2.44346100e-01, -2.42513510e-01, -2.41291780e-01, -2.39459170e-01,\n",
       "        -2.38237440e-01, -2.37626580e-01, -2.33350530e-01, -2.31517930e-01,\n",
       "        -2.30907070e-01, -2.26631000e-01, -2.25409270e-01, -2.22965820e-01,\n",
       "        -2.22354950e-01, -2.20522360e-01, -2.19300630e-01, -2.17468020e-01,\n",
       "        -2.16857170e-01, -2.16246290e-01, -2.15635430e-01, -2.15024560e-01,\n",
       "        -2.14413700e-01, -2.13802830e-01, -2.12581100e-01, -2.11970240e-01,\n",
       "        -2.11359380e-01, -2.09526780e-01, -2.08305050e-01, -2.07083310e-01,\n",
       "        -2.06472460e-01, -2.05861580e-01, -2.05250730e-01, -2.04639850e-01,\n",
       "        -2.02807260e-01, -2.02196390e-01, -2.01585530e-01, -2.00363800e-01,\n",
       "        -1.99752940e-01, -1.99142070e-01, -1.98531210e-01, -1.97920340e-01,\n",
       "        -1.97309480e-01, -1.96698600e-01, -1.96087750e-01, -1.94866020e-01,\n",
       "        -1.93644290e-01, -1.92422550e-01, -1.90589950e-01, -1.89979090e-01,\n",
       "        -1.88757360e-01, -1.87535630e-01, -1.86924770e-01, -1.85703040e-01,\n",
       "        -1.84481310e-01, -1.83870430e-01, -1.83259580e-01, -1.82037850e-01,\n",
       "        -1.81426970e-01, -1.80816110e-01, -1.80205240e-01, -1.79594380e-01,\n",
       "        -1.78983510e-01, -1.78372650e-01, -1.77761800e-01, -1.75929190e-01,\n",
       "        -1.75318330e-01, -1.74707460e-01, -1.74096600e-01, -1.73485730e-01,\n",
       "        -1.72874870e-01, -1.72264000e-01, -1.71653140e-01, -1.71042260e-01,\n",
       "        -1.70431400e-01, -1.69820530e-01, -1.69209670e-01, -1.68598800e-01,\n",
       "        -1.66766210e-01, -1.64933620e-01, -1.64322750e-01, -1.63711890e-01,\n",
       "        -1.63101020e-01, -1.62490160e-01, -1.61268430e-01, -1.60046700e-01,\n",
       "        -1.59435820e-01, -1.58824970e-01, -1.58214090e-01, -1.57603230e-01,\n",
       "        -1.56992360e-01, -1.56381500e-01, -1.55770640e-01, -1.54548910e-01,\n",
       "        -1.53938040e-01, -1.53327180e-01, -1.52716310e-01, -1.52105450e-01,\n",
       "        -1.51494580e-01, -1.50883720e-01, -1.50272850e-01, -1.49661990e-01,\n",
       "        -1.49051110e-01, -1.47829380e-01, -1.47218530e-01, -1.46607650e-01,\n",
       "        -1.45996800e-01, -1.45385920e-01, -1.44775060e-01, -1.43553330e-01,\n",
       "        -1.42942470e-01, -1.42331600e-01, -1.41720740e-01, -1.41109870e-01,\n",
       "        -1.40499010e-01, -1.39888140e-01, -1.39277280e-01, -1.38666400e-01,\n",
       "        -1.38055550e-01, -1.37444670e-01, -1.36833820e-01, -1.35612090e-01,\n",
       "        -1.35001210e-01, -1.34390350e-01, -1.33779500e-01, -1.33168620e-01,\n",
       "        -1.32557760e-01, -1.31946890e-01, -1.30725160e-01, -1.30114300e-01,\n",
       "        -1.29503430e-01, -1.28892570e-01, -1.28281700e-01, -1.27670840e-01,\n",
       "        -1.27059970e-01, -1.26449110e-01, -1.25838240e-01, -1.25227380e-01,\n",
       "        -1.24616510e-01, -1.24005646e-01, -1.23394780e-01, -1.22783914e-01,\n",
       "        -1.22173050e-01, -1.21562180e-01, -1.20951320e-01, -1.20340450e-01,\n",
       "        -1.19729586e-01, -1.19118720e-01, -1.18507855e-01, -1.17896990e-01,\n",
       "        -1.17286130e-01, -1.16675265e-01, -1.16064400e-01, -1.15453534e-01,\n",
       "        -1.14231800e-01, -1.13620940e-01, -1.13010070e-01, -1.12399206e-01,\n",
       "        -1.11788340e-01, -1.11177474e-01, -1.10566610e-01, -1.09955740e-01,\n",
       "        -1.09344880e-01, -1.08734010e-01, -1.08123146e-01, -1.07512280e-01,\n",
       "        -1.06901415e-01, -1.06290550e-01, -1.05679690e-01, -1.05068825e-01,\n",
       "        -1.04457960e-01, -1.03847094e-01, -1.03236230e-01, -1.02625360e-01,\n",
       "        -1.02014500e-01, -1.01403630e-01, -1.00792766e-01, -1.00181900e-01,\n",
       "        -9.95710340e-02, -9.89601700e-02, -9.83493000e-02, -9.77384400e-02,\n",
       "        -9.71275700e-02, -9.65167060e-02, -9.59058400e-02, -9.52949750e-02,\n",
       "        -9.46841200e-02, -9.40732500e-02, -9.34623850e-02, -9.28515200e-02,\n",
       "        -9.22406540e-02, -9.16297900e-02, -9.10189200e-02, -9.04080600e-02,\n",
       "        -8.97971900e-02, -8.91863260e-02, -8.85754600e-02, -8.79645940e-02,\n",
       "        -8.73537300e-02, -8.67428600e-02, -8.61320000e-02, -8.55211300e-02,\n",
       "        -8.49102660e-02, -8.42994000e-02, -8.36885400e-02, -8.30776800e-02,\n",
       "        -8.24668100e-02, -8.18559450e-02, -8.12450800e-02, -8.06342140e-02,\n",
       "        -8.00233500e-02, -7.94124800e-02, -7.88016200e-02, -7.81907500e-02,\n",
       "        -7.75798860e-02, -7.69690200e-02, -7.63581540e-02, -7.57472900e-02,\n",
       "        -7.51364200e-02, -7.45255600e-02, -7.39146900e-02, -7.33038260e-02,\n",
       "        -7.26929600e-02, -7.20821000e-02, -7.14712400e-02, -7.08603700e-02,\n",
       "        -7.02495050e-02, -6.96386400e-02, -6.90277740e-02, -6.84169100e-02,\n",
       "        -6.78060400e-02, -6.71951800e-02, -6.65843100e-02, -6.59734460e-02,\n",
       "        -6.53625800e-02, -6.47517140e-02, -6.41408500e-02, -6.35299800e-02,\n",
       "        -6.29191200e-02, -6.23082560e-02, -6.16973900e-02, -6.10865240e-02,\n",
       "        -6.04756600e-02, -5.98647930e-02, -5.92539270e-02, -5.86430650e-02,\n",
       "        -5.80322000e-02, -5.74213340e-02, -5.68104700e-02, -5.61996030e-02,\n",
       "        -5.55887370e-02, -5.49778700e-02, -5.43670060e-02, -5.37561400e-02,\n",
       "        -5.31452750e-02, -5.25344130e-02, -5.19235470e-02, -5.13126800e-02,\n",
       "        -5.07018160e-02, -5.00909500e-02, -4.94800840e-02, -4.88692200e-02,\n",
       "        -4.82583530e-02, -4.76474870e-02, -4.70366250e-02, -4.64257600e-02,\n",
       "        -4.58148940e-02, -4.52040300e-02, -4.45931630e-02, -4.39822970e-02,\n",
       "        -4.33714300e-02, -4.27605660e-02, -4.21497000e-02, -4.15388400e-02,\n",
       "        -4.09279730e-02, -4.03171070e-02, -3.97062400e-02, -3.90953760e-02,\n",
       "        -3.84845100e-02, -3.78736440e-02, -3.72627800e-02, -3.66519130e-02,\n",
       "        -3.60410500e-02, -3.54301850e-02, -3.48193200e-02, -3.42084540e-02,\n",
       "        -3.35975900e-02, -3.29867230e-02, -3.23758570e-02, -3.17649900e-02,\n",
       "        -3.11541280e-02, -3.05432620e-02, -2.99323960e-02, -2.93215330e-02,\n",
       "        -2.87106670e-02, -2.80998010e-02, -2.74889360e-02, -2.68780700e-02,\n",
       "        -2.62672060e-02, -2.56563400e-02, -2.50454750e-02, -2.44346100e-02,\n",
       "        -2.38237440e-02, -2.32128800e-02, -2.26020140e-02, -2.19911490e-02,\n",
       "        -2.13802830e-02, -2.07694200e-02, -2.01585530e-02, -1.95476880e-02,\n",
       "        -1.89368220e-02, -1.83259570e-02, -1.77150930e-02, -1.71042270e-02,\n",
       "        -1.64933610e-02, -1.58824960e-02, -1.52716310e-02, -1.46607660e-02,\n",
       "        -1.40499010e-02, -1.34390350e-02, -1.28281700e-02, -1.22173050e-02,\n",
       "        -1.16064400e-02, -1.09955740e-02, -1.03847100e-02, -9.77384400e-03,\n",
       "        -9.16297800e-03, -8.55211400e-03, -7.94124800e-03, -7.33038300e-03,\n",
       "        -6.71951800e-03, -6.10865200e-03, -5.49778700e-03, -4.88692200e-03,\n",
       "        -4.27605700e-03, -3.66519200e-03, -3.05432600e-03, -2.44346100e-03,\n",
       "        -1.83259600e-03, -1.22173100e-03, -6.11000000e-04,  0.00000000e+00,\n",
       "         6.11000000e-04,  1.22173100e-03,  1.83259600e-03,  2.44346100e-03,\n",
       "         3.05432600e-03,  3.66519200e-03,  4.27605700e-03,  4.88692200e-03,\n",
       "         5.49778700e-03,  6.10865200e-03,  6.71951800e-03,  7.33038300e-03,\n",
       "         7.94124800e-03,  8.55211400e-03,  9.16297800e-03,  9.77384400e-03,\n",
       "         1.03847100e-02,  1.09955740e-02,  1.16064400e-02,  1.22173050e-02,\n",
       "         1.28281700e-02,  1.34390350e-02,  1.40499010e-02,  1.46607660e-02,\n",
       "         1.52716310e-02,  1.58824960e-02,  1.64933610e-02,  1.71042270e-02,\n",
       "         1.77150930e-02,  1.83259570e-02,  1.89368220e-02,  1.95476880e-02,\n",
       "         2.01585530e-02,  2.07694200e-02,  2.13802830e-02,  2.19911490e-02,\n",
       "         2.26020140e-02,  2.32128800e-02,  2.38237440e-02,  2.44346100e-02,\n",
       "         2.50454750e-02,  2.56563400e-02,  2.62672060e-02,  2.68780700e-02,\n",
       "         2.74889360e-02,  2.80998010e-02,  2.87106670e-02,  2.93215330e-02,\n",
       "         2.99323960e-02,  3.05432620e-02,  3.11541280e-02,  3.17649900e-02,\n",
       "         3.23758570e-02,  3.29867230e-02,  3.35975900e-02,  3.42084540e-02,\n",
       "         3.48193200e-02,  3.54301850e-02,  3.60410500e-02,  3.66519130e-02,\n",
       "         3.72627800e-02,  3.78736440e-02,  3.84845100e-02,  3.90953760e-02,\n",
       "         3.97062400e-02,  4.03171070e-02,  4.09279730e-02,  4.15388400e-02,\n",
       "         4.21497000e-02,  4.27605660e-02,  4.33714300e-02,  4.39822970e-02,\n",
       "         4.45931630e-02,  4.52040300e-02,  4.58148940e-02,  4.64257600e-02,\n",
       "         4.70366250e-02,  4.76474870e-02,  4.82583530e-02,  4.88692200e-02,\n",
       "         4.94800840e-02,  5.00909500e-02,  5.07018160e-02,  5.13126800e-02,\n",
       "         5.19235470e-02,  5.25344130e-02,  5.31452750e-02,  5.37561400e-02,\n",
       "         5.43670060e-02,  5.49778700e-02,  5.55887370e-02,  5.61996030e-02,\n",
       "         5.68104700e-02,  5.74213340e-02,  5.80322000e-02,  5.86430650e-02,\n",
       "         5.92539270e-02,  5.98647930e-02,  6.04756600e-02,  6.10865240e-02,\n",
       "         6.16973900e-02,  6.23082560e-02,  6.29191200e-02,  6.35299800e-02,\n",
       "         6.41408500e-02,  6.47517140e-02,  6.53625800e-02,  6.59734460e-02,\n",
       "         6.65843100e-02,  6.71951800e-02,  6.78060400e-02,  6.84169100e-02,\n",
       "         6.90277740e-02,  6.96386400e-02,  7.02495050e-02,  7.08603700e-02,\n",
       "         7.14712400e-02,  7.20821000e-02,  7.26929600e-02,  7.33038260e-02,\n",
       "         7.39146900e-02,  7.45255600e-02,  7.51364200e-02,  7.57472900e-02,\n",
       "         7.63581540e-02,  7.69690200e-02,  7.75798860e-02,  7.81907500e-02,\n",
       "         7.88016200e-02,  7.94124800e-02,  8.00233500e-02,  8.06342140e-02,\n",
       "         8.12450800e-02,  8.18559450e-02,  8.24668100e-02,  8.30776800e-02,\n",
       "         8.36885400e-02,  8.42994000e-02,  8.49102660e-02,  8.55211300e-02,\n",
       "         8.61320000e-02,  8.67428600e-02,  8.73537300e-02,  8.79645940e-02,\n",
       "         8.85754600e-02,  8.91863260e-02,  8.97971900e-02,  9.04080600e-02,\n",
       "         9.10189200e-02,  9.16297900e-02,  9.22406540e-02,  9.28515200e-02,\n",
       "         9.34623850e-02,  9.40732500e-02,  9.46841200e-02,  9.52949750e-02,\n",
       "         9.59058400e-02,  9.65167060e-02,  9.71275700e-02,  9.77384400e-02,\n",
       "         9.83493000e-02,  9.89601700e-02,  9.95710340e-02,  1.00181900e-01,\n",
       "         1.00792766e-01,  1.01403630e-01,  1.02014500e-01,  1.02625360e-01,\n",
       "         1.03236230e-01,  1.03847094e-01,  1.04457960e-01,  1.05068825e-01,\n",
       "         1.05679690e-01,  1.06290550e-01,  1.06901415e-01,  1.07512280e-01,\n",
       "         1.08734010e-01,  1.09955740e-01,  1.10566610e-01,  1.11177474e-01,\n",
       "         1.11788340e-01,  1.13010070e-01,  1.13620940e-01,  1.14231800e-01,\n",
       "         1.14842670e-01,  1.15453534e-01,  1.16064400e-01,  1.16675265e-01,\n",
       "         1.17896990e-01,  1.18507855e-01,  1.19118720e-01,  1.19729586e-01,\n",
       "         1.20340450e-01,  1.20951320e-01,  1.21562180e-01,  1.22173050e-01,\n",
       "         1.22783914e-01,  1.23394780e-01,  1.24005646e-01,  1.24616510e-01,\n",
       "         1.25227380e-01,  1.25838240e-01,  1.26449110e-01,  1.27059970e-01,\n",
       "         1.27670840e-01,  1.28892570e-01,  1.30725160e-01,  1.31336030e-01,\n",
       "         1.31946890e-01,  1.32557760e-01,  1.33168620e-01,  1.33779500e-01,\n",
       "         1.34390350e-01,  1.35001210e-01,  1.36222940e-01,  1.36833820e-01,\n",
       "         1.37444670e-01,  1.38055550e-01,  1.38666400e-01,  1.39277280e-01,\n",
       "         1.42331600e-01,  1.42942470e-01,  1.43553330e-01,  1.44164200e-01,\n",
       "         1.44775060e-01,  1.45385920e-01,  1.45996800e-01,  1.46607650e-01,\n",
       "         1.47218530e-01,  1.47829380e-01,  1.49051110e-01,  1.51494580e-01,\n",
       "         1.52716310e-01,  1.53327180e-01,  1.53938040e-01,  1.54548910e-01,\n",
       "         1.55159770e-01,  1.55770640e-01,  1.56381500e-01,  1.56992360e-01,\n",
       "         1.57603230e-01,  1.58824970e-01,  1.59435820e-01,  1.60046700e-01,\n",
       "         1.61268430e-01,  1.61879290e-01,  1.62490160e-01,  1.63711890e-01,\n",
       "         1.64933620e-01,  1.66155350e-01,  1.67377080e-01,  1.70431400e-01,\n",
       "         1.71042260e-01,  1.71653140e-01,  1.72264000e-01,  1.74707460e-01,\n",
       "         1.76540060e-01,  1.77150920e-01,  1.77761800e-01,  1.78372650e-01,\n",
       "         1.78983510e-01,  1.80205240e-01,  1.80816110e-01,  1.81426970e-01,\n",
       "         1.82037850e-01,  1.82648700e-01,  1.83259580e-01,  1.83870430e-01,\n",
       "         1.84481310e-01,  1.86313900e-01,  1.86924770e-01,  1.88757360e-01,\n",
       "         1.89979090e-01,  1.90589950e-01,  1.91811680e-01,  1.92422550e-01,\n",
       "         1.93033410e-01,  1.93644290e-01,  1.94255140e-01,  1.94866020e-01,\n",
       "         1.95476870e-01,  1.96087750e-01,  1.96698600e-01,  1.98531210e-01,\n",
       "         1.99142070e-01,  2.00363800e-01,  2.01585530e-01,  2.02196390e-01,\n",
       "         2.02807260e-01,  2.03418120e-01,  2.05861580e-01,  2.06472460e-01,\n",
       "         2.07694190e-01,  2.08305050e-01,  2.08915920e-01,  2.09526780e-01,\n",
       "         2.10748510e-01,  2.12581100e-01,  2.13191970e-01,  2.16246290e-01,\n",
       "         2.18689750e-01,  2.20522360e-01,  2.21744090e-01,  2.22354950e-01,\n",
       "         2.23576680e-01,  2.24798410e-01,  2.28463600e-01,  2.29685340e-01,\n",
       "         2.31517930e-01,  2.35793980e-01,  2.36404850e-01,  2.37626580e-01,\n",
       "         2.38848310e-01,  2.39459170e-01,  2.40680900e-01,  2.41902630e-01,\n",
       "         2.43124370e-01,  2.44346100e-01,  2.44956970e-01,  2.45567830e-01,\n",
       "         2.49843880e-01,  2.51065600e-01,  2.51676470e-01,  2.52287360e-01,\n",
       "         2.60228600e-01,  2.60839460e-01,  2.62061180e-01,  2.62672070e-01,\n",
       "         2.63893780e-01,  2.65726400e-01,  2.71224170e-01,  2.71835030e-01,\n",
       "         2.74278500e-01,  2.75500240e-01,  2.76111100e-01,  2.78554560e-01,\n",
       "         2.79165420e-01,  2.82219740e-01,  2.82830600e-01,  2.85274060e-01,\n",
       "         2.86495800e-01,  2.88328400e-01,  2.88939270e-01,  2.89550130e-01,\n",
       "         2.93215300e-01,  3.00545700e-01,  3.01767440e-01,  3.02378300e-01,\n",
       "         3.03600000e-01,  3.07265220e-01,  3.13984720e-01,  3.14595600e-01,\n",
       "         3.15206470e-01,  3.19482540e-01,  3.21315100e-01,  3.21926000e-01,\n",
       "         3.23147700e-01,  3.24980320e-01,  3.30478100e-01,  3.45138880e-01,\n",
       "         3.51858380e-01,  3.60410480e-01,  3.72016940e-01,  3.73238650e-01,\n",
       "         3.77514720e-01,  3.79958180e-01,  3.80569040e-01,  3.95840670e-01,\n",
       "         4.00727600e-01,  4.15999230e-01,  4.31881730e-01,  4.36157800e-01,\n",
       "         4.36768650e-01,  4.50207680e-01,  4.56316350e-01,  4.62425000e-01,\n",
       "         4.69755380e-01,  4.71587960e-01,  5.15570300e-01,  5.33896200e-01,\n",
       "         5.35118000e-01,  5.65661200e-01,  5.95593630e-01,  7.05549360e-01,\n",
       "         1.25532800e+00]),\n",
       " array([-8.72391940e-01, -8.29631400e-01, -6.65919500e-01, -5.80398300e-01,\n",
       "        -5.67570150e-01, -5.61461500e-01, -5.48022500e-01, -5.19311850e-01,\n",
       "        -5.13203140e-01, -4.97931540e-01, -4.96709800e-01, -4.83270760e-01,\n",
       "        -4.51505780e-01, -4.47840570e-01, -4.44175400e-01, -4.43564530e-01,\n",
       "        -4.39899330e-01, -4.36845000e-01, -4.36234150e-01, -3.99582240e-01,\n",
       "        -3.93473570e-01, -3.83699740e-01, -3.51323870e-01, -3.49491270e-01,\n",
       "        -3.45826100e-01, -3.44604340e-01, -3.39106560e-01, -3.31776170e-01,\n",
       "        -3.28721850e-01, -3.25667530e-01, -3.24445800e-01, -3.20169750e-01,\n",
       "        -3.17726280e-01, -3.09174180e-01, -2.95124260e-01, -2.92680800e-01,\n",
       "        -2.85350440e-01, -2.82296100e-01, -2.81685230e-01, -2.79241770e-01,\n",
       "        -2.78020050e-01, -2.73133130e-01, -2.71300520e-01, -2.60915820e-01,\n",
       "        -2.58472350e-01, -2.57861500e-01, -2.52363700e-01, -2.49309380e-01,\n",
       "        -2.45644180e-01, -2.45033320e-01, -2.43811590e-01, -2.40757270e-01,\n",
       "        -2.35259470e-01, -2.34037740e-01, -2.31594280e-01, -2.29761690e-01,\n",
       "        -2.27318230e-01, -2.26707370e-01, -2.25485640e-01, -2.24263900e-01,\n",
       "        -2.23042180e-01, -2.22431300e-01, -2.21209570e-01, -2.20598710e-01,\n",
       "        -2.18766120e-01, -2.17544390e-01, -2.12657470e-01, -2.11435740e-01,\n",
       "        -2.09603130e-01, -2.05937950e-01, -2.04105350e-01, -2.02883620e-01,\n",
       "        -2.02272760e-01, -2.00440150e-01, -1.97996690e-01, -1.97385830e-01,\n",
       "        -1.96164100e-01, -1.94331510e-01, -1.93109780e-01, -1.90666320e-01,\n",
       "        -1.89444590e-01, -1.88222860e-01, -1.87611980e-01, -1.86390250e-01,\n",
       "        -1.81503340e-01, -1.79059880e-01, -1.78449000e-01, -1.74783810e-01,\n",
       "        -1.74172950e-01, -1.72951220e-01, -1.72340360e-01, -1.71729490e-01,\n",
       "        -1.71118630e-01, -1.69896900e-01, -1.68675170e-01, -1.65620830e-01,\n",
       "        -1.64399100e-01, -1.63177390e-01, -1.62566510e-01, -1.61955650e-01,\n",
       "        -1.60123050e-01, -1.59512190e-01, -1.58901320e-01, -1.58290460e-01,\n",
       "        -1.57068730e-01, -1.56457860e-01, -1.55236120e-01, -1.54625270e-01,\n",
       "        -1.54014400e-01, -1.52792660e-01, -1.51570950e-01, -1.49127480e-01,\n",
       "        -1.48516610e-01, -1.47905750e-01, -1.47294880e-01, -1.44851420e-01,\n",
       "        -1.44240560e-01, -1.43018830e-01, -1.41797100e-01, -1.40575360e-01,\n",
       "        -1.39353630e-01, -1.38742770e-01, -1.38131900e-01, -1.36910170e-01,\n",
       "        -1.36299310e-01, -1.35688440e-01, -1.34466710e-01, -1.33855850e-01,\n",
       "        -1.33244980e-01, -1.31412390e-01, -1.30801510e-01, -1.30190660e-01,\n",
       "        -1.28358070e-01, -1.27136330e-01, -1.25914600e-01, -1.25303730e-01,\n",
       "        -1.23471140e-01, -1.22860275e-01, -1.22249410e-01, -1.21638544e-01,\n",
       "        -1.21027680e-01, -1.20416810e-01, -1.19805950e-01, -1.19195080e-01,\n",
       "        -1.18584216e-01, -1.17973350e-01, -1.17362484e-01, -1.16751620e-01,\n",
       "        -1.16140750e-01, -1.15529890e-01, -1.14308156e-01, -1.13086430e-01,\n",
       "        -1.12475570e-01, -1.11864700e-01, -1.11253835e-01, -1.10032104e-01,\n",
       "        -1.08810370e-01, -1.08199510e-01, -1.07588640e-01, -1.06366910e-01,\n",
       "        -1.05756044e-01, -1.05145180e-01, -1.04534310e-01, -1.03923450e-01,\n",
       "        -1.03312580e-01, -1.02090850e-01, -1.00869130e-01, -1.00258260e-01,\n",
       "        -9.96473950e-02, -9.90365300e-02, -9.78148000e-02, -9.72039300e-02,\n",
       "        -9.65930700e-02, -9.47604700e-02, -9.41496040e-02, -9.35387400e-02,\n",
       "        -9.29278700e-02, -9.23170100e-02, -9.17061400e-02, -9.10952760e-02,\n",
       "        -9.04844200e-02, -8.98735500e-02, -8.92626900e-02, -8.86518200e-02,\n",
       "        -8.80409550e-02, -8.74300900e-02, -8.68192240e-02, -8.62083600e-02,\n",
       "        -8.55974900e-02, -8.49866300e-02, -8.43757600e-02, -8.37648960e-02,\n",
       "        -8.31540300e-02, -8.25431640e-02, -8.19323000e-02, -8.13214300e-02,\n",
       "        -8.07105700e-02, -8.00997000e-02, -7.94888400e-02, -7.88779800e-02,\n",
       "        -7.82671100e-02, -7.76562500e-02, -7.70453800e-02, -7.64345150e-02,\n",
       "        -7.58236500e-02, -7.52127840e-02, -7.46019200e-02, -7.39910500e-02,\n",
       "        -7.33801900e-02, -7.27693200e-02, -7.21584560e-02, -7.15475900e-02,\n",
       "        -7.09367250e-02, -7.03258600e-02, -6.97149900e-02, -6.91041300e-02,\n",
       "        -6.84932600e-02, -6.78824040e-02, -6.72715400e-02, -6.66606700e-02,\n",
       "        -6.60498100e-02, -6.54389400e-02, -6.48280750e-02, -6.42172100e-02,\n",
       "        -6.36063440e-02, -6.29954800e-02, -6.23846130e-02, -6.17737470e-02,\n",
       "        -6.11628800e-02, -6.05520160e-02, -5.99411540e-02, -5.93302900e-02,\n",
       "        -5.87194230e-02, -5.81085570e-02, -5.74976900e-02, -5.68868260e-02,\n",
       "        -5.62759600e-02, -5.56650940e-02, -5.50542300e-02, -5.44433670e-02,\n",
       "        -5.38325000e-02, -5.32216360e-02, -5.26107700e-02, -5.19999040e-02,\n",
       "        -5.13890400e-02, -5.07781730e-02, -5.01673070e-02, -4.95564400e-02,\n",
       "        -4.89455760e-02, -4.83347140e-02, -4.77238500e-02, -4.71129830e-02,\n",
       "        -4.65021170e-02, -4.58912500e-02, -4.52803860e-02, -4.46695200e-02,\n",
       "        -4.40586540e-02, -4.34477900e-02, -4.28369270e-02, -4.22260600e-02,\n",
       "        -4.16151960e-02, -4.10043300e-02, -4.03934640e-02, -3.97826000e-02,\n",
       "        -3.91717330e-02, -3.85608670e-02, -3.79500000e-02, -3.73391400e-02,\n",
       "        -3.67282740e-02, -3.61174100e-02, -3.55065430e-02, -3.48956770e-02,\n",
       "        -3.42848100e-02, -3.36739460e-02, -3.30630800e-02, -3.24522150e-02,\n",
       "        -3.18413530e-02, -3.12304850e-02, -3.06196210e-02, -3.00087560e-02,\n",
       "        -2.93978900e-02, -2.87870240e-02, -2.81761590e-02, -2.75652950e-02,\n",
       "        -2.69544300e-02, -2.63435640e-02, -2.57326980e-02, -2.51218340e-02,\n",
       "        -2.45109680e-02, -2.39001030e-02, -2.32892370e-02, -2.26783720e-02,\n",
       "        -2.20675080e-02, -2.14566420e-02, -2.08457760e-02, -2.02349100e-02,\n",
       "        -1.96240450e-02, -1.90131810e-02, -1.84023160e-02, -1.77914500e-02,\n",
       "        -1.71805840e-02, -1.65697200e-02, -1.59588550e-02, -1.53479890e-02,\n",
       "        -1.47371240e-02, -1.41262590e-02, -1.35153930e-02, -1.29045290e-02,\n",
       "        -1.22936630e-02, -1.16827980e-02, -1.10719330e-02, -1.04610680e-02,\n",
       "        -9.85020200e-03, -9.23933700e-03, -8.62847200e-03, -8.01760600e-03,\n",
       "        -7.40674100e-03, -6.79587600e-03, -6.18501100e-03, -5.57414500e-03,\n",
       "        -4.96328000e-03, -4.35241500e-03, -3.74155000e-03, -3.13068400e-03,\n",
       "        -2.51981900e-03, -1.90895400e-03, -1.29808900e-03, -6.87000000e-04,\n",
       "        -7.64000000e-05,  5.35000000e-04,  1.14537200e-03,  1.75623800e-03,\n",
       "         2.36710300e-03,  2.97796800e-03,  3.58883300e-03,  4.19969900e-03,\n",
       "         4.81056400e-03,  5.42142900e-03,  6.03229400e-03,  6.64315900e-03,\n",
       "         7.25402500e-03,  7.86489000e-03,  8.47575500e-03,  9.08662000e-03,\n",
       "         9.69748600e-03,  1.03083510e-02,  1.09192160e-02,  1.15300820e-02,\n",
       "         1.21409460e-02,  1.27518120e-02,  1.33626770e-02,  1.39735430e-02,\n",
       "         1.45844080e-02,  1.51952730e-02,  1.58061390e-02,  1.64170040e-02,\n",
       "         1.70278680e-02,  1.76387340e-02,  1.82496000e-02,  1.88604650e-02,\n",
       "         1.94713300e-02,  2.00821940e-02,  2.06930600e-02,  2.13039260e-02,\n",
       "         2.19147910e-02,  2.25256550e-02,  2.31365200e-02,  2.37473860e-02,\n",
       "         2.43582520e-02,  2.49691180e-02,  2.55799820e-02,  2.61908470e-02,\n",
       "         2.68017130e-02,  2.74125780e-02,  2.80234420e-02,  2.86343080e-02,\n",
       "         2.92451740e-02,  2.98560400e-02,  3.04669050e-02,  3.10777690e-02,\n",
       "         3.16886340e-02,  3.22995000e-02,  3.29103660e-02,  3.35212300e-02,\n",
       "         3.41320970e-02,  3.47429630e-02,  3.53538240e-02,  3.59646900e-02,\n",
       "         3.65755560e-02,  3.71864200e-02,  3.77972870e-02,  3.84081530e-02,\n",
       "         3.90190200e-02,  3.96298840e-02,  4.02407500e-02,  4.08516100e-02,\n",
       "         4.14624770e-02,  4.20733430e-02,  4.26842100e-02,  4.32950740e-02,\n",
       "         4.39059400e-02,  4.45168060e-02,  4.51276700e-02,  4.57385370e-02,\n",
       "         4.63494000e-02,  4.69602640e-02,  4.75711300e-02,  4.81819960e-02,\n",
       "         4.87928600e-02,  4.94037270e-02,  5.00145930e-02,  5.06254600e-02,\n",
       "         5.12363240e-02,  5.18471860e-02,  5.24580500e-02,  5.30689170e-02,\n",
       "         5.36797830e-02,  5.42906500e-02,  5.49015140e-02,  5.55123800e-02,\n",
       "         5.61232460e-02,  5.67341100e-02,  5.73449730e-02,  5.79558400e-02,\n",
       "         5.85667040e-02,  5.91775700e-02,  5.97884360e-02,  6.03993000e-02,\n",
       "         6.10101670e-02,  6.16210330e-02,  6.22319000e-02,  6.28427640e-02,\n",
       "         6.34536300e-02,  6.40644950e-02,  6.46753600e-02,  6.52862300e-02,\n",
       "         6.58970850e-02,  6.65079500e-02,  6.71188160e-02,  6.77296800e-02,\n",
       "         6.83405500e-02,  6.89514100e-02,  6.95622800e-02,  7.01731440e-02,\n",
       "         7.07840100e-02,  7.13948760e-02,  7.20057400e-02,  7.26166100e-02,\n",
       "         7.32274700e-02,  7.38383400e-02,  7.44492040e-02,  7.50600700e-02,\n",
       "         7.56709350e-02,  7.62818000e-02,  7.68926600e-02,  7.75035250e-02,\n",
       "         7.81143900e-02,  7.87252560e-02,  7.93361200e-02,  7.99469900e-02,\n",
       "         8.05578500e-02,  8.11687200e-02,  8.17795840e-02,  8.23904500e-02,\n",
       "         8.30013160e-02,  8.36121800e-02,  8.42230500e-02,  8.48339100e-02,\n",
       "         8.54447800e-02,  8.60556440e-02,  8.66665100e-02,  8.72773750e-02,\n",
       "         8.78882400e-02,  8.84991000e-02,  8.91099650e-02,  8.97208300e-02,\n",
       "         9.03316960e-02,  9.09425600e-02,  9.15534300e-02,  9.21642900e-02,\n",
       "         9.27751600e-02,  9.33860240e-02,  9.39968900e-02,  9.46077560e-02,\n",
       "         9.52186200e-02,  9.58294900e-02,  9.64403500e-02,  9.70512200e-02,\n",
       "         9.76620840e-02,  9.82729500e-02,  9.88838150e-02,  9.94946700e-02,\n",
       "         1.00105540e-01,  1.00716405e-01,  1.01327270e-01,  1.01938136e-01,\n",
       "         1.02549000e-01,  1.03159870e-01,  1.03770730e-01,  1.04381600e-01,\n",
       "         1.04992464e-01,  1.05603330e-01,  1.06214195e-01,  1.06825060e-01,\n",
       "         1.08046790e-01,  1.08657660e-01,  1.09268524e-01,  1.09879390e-01,\n",
       "         1.10490250e-01,  1.11101110e-01,  1.11711980e-01,  1.12322845e-01,\n",
       "         1.12933710e-01,  1.13544576e-01,  1.14155440e-01,  1.15377170e-01,\n",
       "         1.15988040e-01,  1.16598904e-01,  1.17209770e-01,  1.17820635e-01,\n",
       "         1.18431500e-01,  1.19042370e-01,  1.19653230e-01,  1.20874960e-01,\n",
       "         1.21485820e-01,  1.22096690e-01,  1.22707550e-01,  1.23318420e-01,\n",
       "         1.23929285e-01,  1.24540150e-01,  1.25761880e-01,  1.26372750e-01,\n",
       "         1.26983610e-01,  1.27594470e-01,  1.28205340e-01,  1.28816200e-01,\n",
       "         1.29427080e-01,  1.30037930e-01,  1.31259660e-01,  1.31870540e-01,\n",
       "         1.32481400e-01,  1.33092270e-01,  1.33703130e-01,  1.34314000e-01,\n",
       "         1.34924860e-01,  1.35535730e-01,  1.36757460e-01,  1.37368320e-01,\n",
       "         1.37979200e-01,  1.38590050e-01,  1.39200910e-01,  1.40422640e-01,\n",
       "         1.41644370e-01,  1.42866100e-01,  1.43476980e-01,  1.44087840e-01,\n",
       "         1.44698710e-01,  1.45309570e-01,  1.45920440e-01,  1.46531300e-01,\n",
       "         1.47753030e-01,  1.48363900e-01,  1.48974760e-01,  1.50196500e-01,\n",
       "         1.51418220e-01,  1.52639960e-01,  1.53250810e-01,  1.55694280e-01,\n",
       "         1.56305150e-01,  1.56916000e-01,  1.57526880e-01,  1.58137740e-01,\n",
       "         1.58748610e-01,  1.59359470e-01,  1.61192060e-01,  1.62413790e-01,\n",
       "         1.63024660e-01,  1.63635520e-01,  1.64246400e-01,  1.66078980e-01,\n",
       "         1.67300720e-01,  1.67911590e-01,  1.68522450e-01,  1.69133320e-01,\n",
       "         1.69744180e-01,  1.70355050e-01,  1.70965910e-01,  1.71576780e-01,\n",
       "         1.73409370e-01,  1.74020230e-01,  1.74631100e-01,  1.75241960e-01,\n",
       "         1.76463700e-01,  1.77074570e-01,  1.77685420e-01,  1.78296300e-01,\n",
       "         1.78907160e-01,  1.79518030e-01,  1.80128890e-01,  1.80739760e-01,\n",
       "         1.82572350e-01,  1.83794080e-01,  1.85015810e-01,  1.85626670e-01,\n",
       "         1.86848400e-01,  1.87459280e-01,  1.88070130e-01,  1.89902740e-01,\n",
       "         1.91124470e-01,  1.91735330e-01,  1.93567930e-01,  1.94178790e-01,\n",
       "         1.95400520e-01,  1.96011380e-01,  1.96622250e-01,  1.99676570e-01,\n",
       "         2.00898300e-01,  2.02730910e-01,  2.03341770e-01,  2.03952640e-01,\n",
       "         2.05785230e-01,  2.06396090e-01,  2.07006960e-01,  2.07617820e-01,\n",
       "         2.09450420e-01,  2.11893890e-01,  2.12504740e-01,  2.13115620e-01,\n",
       "         2.15559080e-01,  2.18002530e-01,  2.20445990e-01,  2.22889450e-01,\n",
       "         2.23500330e-01,  2.29608970e-01,  2.31441570e-01,  2.32052430e-01,\n",
       "         2.32663300e-01,  2.42437140e-01,  2.44269740e-01,  2.47934940e-01,\n",
       "         2.48545800e-01,  2.49156670e-01,  2.50378400e-01,  2.51600120e-01,\n",
       "         2.52210970e-01,  2.57097900e-01,  2.57708800e-01,  2.61373970e-01,\n",
       "         2.62595680e-01,  2.63817430e-01,  2.76645600e-01,  2.78478200e-01,\n",
       "         2.79089060e-01,  2.87641170e-01,  2.90084630e-01,  2.92528100e-01,\n",
       "         2.96193270e-01,  3.10854050e-01,  3.11464900e-01,  3.14519260e-01,\n",
       "         3.16351830e-01,  3.20627900e-01,  3.26736540e-01,  3.31623460e-01,\n",
       "         3.35288670e-01,  3.35899530e-01,  3.42619030e-01,  3.44451640e-01,\n",
       "         3.45673380e-01,  3.47505960e-01,  3.48116840e-01,  3.51171170e-01,\n",
       "         3.55447200e-01,  3.56668950e-01,  3.62166730e-01,  3.66442800e-01,\n",
       "         3.81714430e-01,  3.92099140e-01,  3.93320860e-01,  3.93931720e-01,\n",
       "         4.06149030e-01,  4.06759900e-01,  4.08592500e-01,  4.25696730e-01,\n",
       "         4.34859700e-01,  4.44633540e-01,  4.45855260e-01,  4.53185650e-01,\n",
       "         4.75787670e-01,  4.80063740e-01,  4.83728920e-01,  4.93502770e-01,\n",
       "         4.97167940e-01,  5.01444000e-01,  5.02054870e-01,  5.14272150e-01,\n",
       "         5.16104760e-01,  5.17326530e-01,  5.20380850e-01,  5.20991700e-01,\n",
       "         5.26489500e-01,  5.31376400e-01,  5.49702350e-01,  5.57643600e-01,\n",
       "         5.63141400e-01,  5.68639160e-01,  5.73526100e-01,  5.75969600e-01,\n",
       "         6.02847640e-01,  6.39499550e-01,  6.62712450e-01,  7.31129350e-01,\n",
       "         7.62894330e-01,  1.00601880e+00]),\n",
       " array(['AGGRESSIVE', 'NORMAL', 'SLOW'], dtype=object)]"
      ]
     },
     "execution_count": 36,
     "metadata": {},
     "output_type": "execute_result"
    }
   ],
   "source": [
    "from sklearn.preprocessing import OrdinalEncoder\n",
    "\n",
    "ce = OrdinalEncoder()\n",
    "\n",
    "train_data_enc = ce.fit(train_data)\n",
    "\n",
    "train_data_enc.categories_"
   ]
  },
  {
   "cell_type": "code",
   "execution_count": 37,
   "metadata": {},
   "outputs": [
    {
     "data": {
      "text/plain": [
       "0.4231536926147705"
      ]
     },
     "execution_count": 37,
     "metadata": {},
     "output_type": "execute_result"
    }
   ],
   "source": [
    "from sklearn.decomposition import PCA\n",
    "from sklearn.pipeline import Pipeline\n",
    "\n",
    "pipe = Pipeline([('scaler', StandardScaler()), ('pca', PCA()), ('svc', SVC())])\n",
    "\n",
    "pipe.fit(X_train, y_train)\n",
    "\n",
    "pipe.score(X_test, y_test)"
   ]
  },
  {
   "cell_type": "code",
   "execution_count": 34,
   "metadata": {},
   "outputs": [
    {
     "data": {
      "image/png": "[encoded data removed]",
      "text/plain": [
       "<Figure size 432x288 with 6 Axes>"
      ]
     },
     "metadata": {},
     "output_type": "display_data"
    }
   ],
   "source": [
    "train_data.plot(kind='box', subplots=True, layout=(2,3), sharex=False, sharey=False)\n",
    "pyplot.show()"
   ]
  },
  {
   "cell_type": "code",
   "execution_count": 158,
   "metadata": {},
   "outputs": [
    {
     "name": "stdout",
     "output_type": "stream",
     "text": [
      "          AccX      AccY      AccZ     GyroX     GyroY     GyroZ\n",
      "0     0.000000  0.000000  0.000000  0.059407 -0.174707  0.101938\n",
      "1    -1.624864 -1.082492 -0.204183 -0.028558  0.051313  0.135536\n",
      "2    -0.594660 -0.122410  0.220502 -0.019395 -0.029322  0.087888\n",
      "3     0.738478 -0.228456  0.667732  0.069791 -0.029932  0.054902\n",
      "4     0.101741  0.777568 -0.066730  0.030696 -0.003665  0.054902\n",
      "...        ...       ...       ...       ...       ...       ...\n",
      "3334  0.431670  0.539584  0.179422  0.014813 -0.080023  0.004811\n",
      "3335 -1.265742  0.517372 -0.681800  0.037415 -0.029932 -0.019013\n",
      "3336  0.788267  0.265228 -1.680777  0.024587 -0.001833  0.034132\n",
      "3337  0.312490 -0.195053 -0.586542  0.082620  0.015882  0.020693\n",
      "3338  0.534567 -0.214498  0.696875  0.026420  0.212581  0.128816\n",
      "\n",
      "[3339 rows x 6 columns]\n",
      "       Class\n",
      "0     NORMAL\n",
      "1     NORMAL\n",
      "2     NORMAL\n",
      "3     NORMAL\n",
      "4     NORMAL\n",
      "...      ...\n",
      "3334    SLOW\n",
      "3335    SLOW\n",
      "3336    SLOW\n",
      "3337    SLOW\n",
      "3338    SLOW\n",
      "\n",
      "[3339 rows x 1 columns]\n"
     ]
    }
   ],
   "source": [
    "# Declaring feature variables\n",
    "\n",
    "\"\"\" As we know Class is catagorical in nature\n",
    "we need to drop it, and then assign to our target variable \"\"\"\n",
    "\n",
    "X = train_data[['AccX', 'AccY', 'AccZ', 'GyroX', 'GyroY', 'GyroZ']]\n",
    "print(X)\n",
    "y = train_data[['Class']]\n",
    "print(y)"
   ]
  },
  {
   "cell_type": "code",
   "execution_count": 189,
   "metadata": {},
   "outputs": [
    {
     "name": "stdout",
     "output_type": "stream",
     "text": [
      "<bound method NDFrame.head of            Class\n",
      "3237        SLOW\n",
      "358       NORMAL\n",
      "100       NORMAL\n",
      "2940        SLOW\n",
      "551       NORMAL\n",
      "...          ...\n",
      "1095      NORMAL\n",
      "1130  AGGRESSIVE\n",
      "1294  AGGRESSIVE\n",
      "860       NORMAL\n",
      "3174        SLOW\n",
      "\n",
      "[2337 rows x 1 columns]>\n"
     ]
    },
    {
     "data": {
      "text/plain": [
       "(2337, 1)"
      ]
     },
     "execution_count": 189,
     "metadata": {},
     "output_type": "execute_result"
    }
   ],
   "source": [
    "X_train, X_test, y_train, y_test = train_test_split(X, y, test_size = 0.30, random_state = 42)\n",
    "\n",
    "print(y_train.head)\n",
    "y_train.shape"
   ]
  },
  {
   "cell_type": "code",
   "execution_count": 190,
   "metadata": {},
   "outputs": [],
   "source": [
    "scaler = StandardScaler()\n",
    "scaler.fit(X_train)\n",
    "\n",
    "X_train = scaler.transform(X_train)\n",
    "X_test = scaler.transform(X_test)"
   ]
  },
  {
   "cell_type": "code",
   "execution_count": 38,
   "metadata": {},
   "outputs": [
    {
     "data": {
      "text/plain": [
       "KNeighborsClassifier(n_neighbors=200)"
      ]
     },
     "execution_count": 38,
     "metadata": {},
     "output_type": "execute_result"
    }
   ],
   "source": [
    "KNN_classifier = KNeighborsClassifier(n_neighbors=200)\n",
    "KNN_classifier.fit(X_train, y_train)"
   ]
  },
  {
   "cell_type": "code",
   "execution_count": 39,
   "metadata": {},
   "outputs": [],
   "source": [
    "y_predict_KNN = KNN_classifier.predict(X_test)"
   ]
  },
  {
   "cell_type": "code",
   "execution_count": 40,
   "metadata": {},
   "outputs": [
    {
     "name": "stdout",
     "output_type": "stream",
     "text": [
      "[[ 99  46 165]\n",
      " [ 46  95 225]\n",
      " [ 33  73 220]]\n",
      "              precision    recall  f1-score   support\n",
      "\n",
      "  AGGRESSIVE       0.56      0.32      0.41       310\n",
      "      NORMAL       0.44      0.26      0.33       366\n",
      "        SLOW       0.36      0.67      0.47       326\n",
      "\n",
      "    accuracy                           0.41      1002\n",
      "   macro avg       0.45      0.42      0.40      1002\n",
      "weighted avg       0.45      0.41      0.40      1002\n",
      "\n"
     ]
    }
   ],
   "source": [
    "print(confusion_matrix(y_test, y_predict_KNN))\n",
    "print(classification_report(y_test, y_predict_KNN))"
   ]
  },
  {
   "cell_type": "code",
   "execution_count": 198,
   "metadata": {},
   "outputs": [
    {
     "name": "stdout",
     "output_type": "stream",
     "text": [
      "Shape train_data: (3339, 7) \n"
     ]
    },
    {
     "data": {
      "text/plain": [
       "0       1\n",
       "1       1\n",
       "2       1\n",
       "3       1\n",
       "4       1\n",
       "       ..\n",
       "3334    2\n",
       "3335    2\n",
       "3336    2\n",
       "3337    2\n",
       "3338    2\n",
       "Name: Class, Length: 3339, dtype: int64"
      ]
     },
     "execution_count": 198,
     "metadata": {},
     "output_type": "execute_result"
    }
   ],
   "source": [
    "\n",
    "from sklearn.preprocessing import LabelEncoder\n",
    "\n",
    "cols = ['Class']\n",
    "\n",
    "for c in cols:\n",
    "    lbl = LabelEncoder()\n",
    "    lbl.fit(list(train_data[c].values))\n",
    "    train_data[c] = lbl.transform(list(train_data[c].values))\n",
    "\n",
    "print('Shape train_data: {} '.format(train_data.shape))\n",
    "\n",
    "train_data['Class']"
   ]
  },
  {
   "cell_type": "code",
   "execution_count": 200,
   "metadata": {},
   "outputs": [
    {
     "name": "stdout",
     "output_type": "stream",
     "text": [
      "          AccX      AccY      AccZ     GyroX     GyroY     GyroZ\n",
      "0     0.000000  0.000000  0.000000  0.059407 -0.174707  0.101938\n",
      "1    -1.624864 -1.082492 -0.204183 -0.028558  0.051313  0.135536\n",
      "2    -0.594660 -0.122410  0.220502 -0.019395 -0.029322  0.087888\n",
      "3     0.738478 -0.228456  0.667732  0.069791 -0.029932  0.054902\n",
      "4     0.101741  0.777568 -0.066730  0.030696 -0.003665  0.054902\n",
      "...        ...       ...       ...       ...       ...       ...\n",
      "3334  0.431670  0.539584  0.179422  0.014813 -0.080023  0.004811\n",
      "3335 -1.265742  0.517372 -0.681800  0.037415 -0.029932 -0.019013\n",
      "3336  0.788267  0.265228 -1.680777  0.024587 -0.001833  0.034132\n",
      "3337  0.312490 -0.195053 -0.586542  0.082620  0.015882  0.020693\n",
      "3338  0.534567 -0.214498  0.696875  0.026420  0.212581  0.128816\n",
      "\n",
      "[3339 rows x 6 columns]\n",
      "      Class\n",
      "0         1\n",
      "1         1\n",
      "2         1\n",
      "3         1\n",
      "4         1\n",
      "...     ...\n",
      "3334      2\n",
      "3335      2\n",
      "3336      2\n",
      "3337      2\n",
      "3338      2\n",
      "\n",
      "[3339 rows x 1 columns]\n"
     ]
    }
   ],
   "source": [
    "X = train_data[['AccX', 'AccY', 'AccZ', 'GyroX', 'GyroY', 'GyroZ']]\n",
    "print(X)\n",
    "y = train_data[['Class']]\n",
    "print(y)\n",
    "\n",
    "X_train, X_test, y_train, y_test = train_test_split(X, y, test_size = 0.30, random_state = 42)\n"
   ]
  },
  {
   "cell_type": "markdown",
   "metadata": {},
   "source": [
    "Now I have assigned each 'Y' variable under a hot encoding method, we can begin by feeding this into our Isolation Forest to find any outliers"
   ]
  },
  {
   "cell_type": "code",
   "execution_count": 65,
   "metadata": {},
   "outputs": [
    {
     "name": "stdout",
     "output_type": "stream",
     "text": [
      "NORMAL        1113\n",
      "AGGRESSIVE    1113\n",
      "SLOW          1113\n",
      "Name: Class, dtype: int64\n",
      "['Class']\n"
     ]
    }
   ],
   "source": [
    "col_names = ['Class']\n",
    "for col in col_names: print(train_data[col].value_counts())\n",
    "\n",
    "print(list(col_names))"
   ]
  },
  {
   "cell_type": "code",
   "execution_count": 187,
   "metadata": {},
   "outputs": [
    {
     "name": "stdout",
     "output_type": "stream",
     "text": [
      "       AccX      AccY      AccZ     GyroX     GyroY     GyroZ\n",
      "0  0.000000  0.000000  0.000000  0.059407 -0.174707  0.101938\n",
      "1 -1.624864 -1.082492 -0.204183 -0.028558  0.051313  0.135536\n",
      "2 -0.594660 -0.122410  0.220502 -0.019395 -0.029322  0.087888\n",
      "3  0.738478 -0.228456  0.667732  0.069791 -0.029932  0.054902\n",
      "4  0.101741  0.777568 -0.066730  0.030696 -0.003665  0.054902\n",
      "    Class\n",
      "0  NORMAL\n",
      "1  NORMAL\n",
      "2  NORMAL\n",
      "3  NORMAL\n",
      "4  NORMAL\n",
      "(3339, 7)\n"
     ]
    }
   ],
   "source": [
    "print(X.head())\n",
    "print(y.head())\n",
    "print(train_data.shape[:10])"
   ]
  },
  {
   "cell_type": "code",
   "execution_count": 44,
   "metadata": {},
   "outputs": [
    {
     "ename": "TypeError",
     "evalue": "cross_val_score() missing 1 required positional argument: 'X'",
     "output_type": "error",
     "traceback": [
      "\u001b[1;31m---------------------------------------------------------------------------\u001b[0m",
      "\u001b[1;31mTypeError\u001b[0m                                 Traceback (most recent call last)",
      "\u001b[1;32mc:\\Users\\charl\\OneDrive\\Msc Degree details\\CE880\\REsubmission_CE880_Aug_22\\Resubmission_CE880\\Classification_Driver_Behaviour_2.ipynb Cell 36\u001b[0m in \u001b[0;36m<cell line: 5>\u001b[1;34m()\u001b[0m\n\u001b[0;32m      <a href='vscode-notebook-cell:/c%3A/Users/charl/OneDrive/Msc%20Degree%20details/CE880/REsubmission_CE880_Aug_22/Resubmission_CE880/Classification_Driver_Behaviour_2.ipynb#ch0000037?line=2'>3</a>\u001b[0m \u001b[39m# fit the model to the training set\u001b[39;00m\n\u001b[0;32m      <a href='vscode-notebook-cell:/c%3A/Users/charl/OneDrive/Msc%20Degree%20details/CE880/REsubmission_CE880_Aug_22/Resubmission_CE880/Classification_Driver_Behaviour_2.ipynb#ch0000037?line=3'>4</a>\u001b[0m clf\u001b[39m.\u001b[39mfit(X_train, y_train)\n\u001b[1;32m----> <a href='vscode-notebook-cell:/c%3A/Users/charl/OneDrive/Msc%20Degree%20details/CE880/REsubmission_CE880_Aug_22/Resubmission_CE880/Classification_Driver_Behaviour_2.ipynb#ch0000037?line=4'>5</a>\u001b[0m \u001b[39mprint\u001b[39m(cross_val_score(pipe))\n",
      "\u001b[1;31mTypeError\u001b[0m: cross_val_score() missing 1 required positional argument: 'X'"
     ]
    }
   ],
   "source": [
    "\n",
    "# create the classifier with n_estimators = 100\n",
    "clf = RandomForestClassifier(n_estimators=100, random_state=0)\n",
    "# fit the model to the training set\n",
    "clf.fit(X_train, y_train)\n",
    "print(cross_val_score(X))\n",
    "# view the feature scores\n",
    "#feature_scores = pd.Series(clf.feature_importances_, index= X_train).sort_values(ascending=False)"
   ]
  },
  {
   "cell_type": "code",
   "execution_count": null,
   "metadata": {},
   "outputs": [],
   "source": [
    "from sklearn.ensemble import IsolationForest\n",
    "\n",
    "\n",
    "iso_100 = IsolationForest(n_estimators=100, verbose=0)\n",
    "\n",
    "iso_100.fit(X_train)\n",
    "\n"
   ]
  },
  {
   "cell_type": "code",
   "execution_count": 92,
   "metadata": {},
   "outputs": [
    {
     "name": "stdout",
     "output_type": "stream",
     "text": [
      "(2337,)\n",
      "(1002,)\n"
     ]
    }
   ],
   "source": [
    "print(y_train.shape)\n",
    "print(y_test.shape)\n"
   ]
  },
  {
   "cell_type": "code",
   "execution_count": 45,
   "metadata": {},
   "outputs": [
    {
     "name": "stdout",
     "output_type": "stream",
     "text": [
      "Model Accuracy: 0.4122\n"
     ]
    }
   ],
   "source": [
    "rfc = RandomForestClassifier(n_estimators = 150, random_state=42)\n",
    "rfc.fit(X_train, y_train)\n",
    "\n",
    "# predict test results\n",
    "\n",
    "y_pred = rfc.predict(X_test)\n",
    "\n",
    "# check accuracy\n",
    "\n",
    "print('Model Accuracy: {0:0.4f}'. format(accuracy_score(y_test, y_pred)))\n"
   ]
  },
  {
   "cell_type": "code",
   "execution_count": 46,
   "metadata": {},
   "outputs": [
    {
     "name": "stdout",
     "output_type": "stream",
     "text": [
      "Model Accuracy: 0.4122\n"
     ]
    }
   ],
   "source": [
    "#rfc_100 = RandomForestClassifier(n_estimators=1000, bootstrap=True,\n",
    "#                                 random_state=42, warm_start = True)\n",
    "rfc_1000 = RandomForestClassifier(n_estimators=1000, random_state=42)\n",
    "                                  \n",
    "rfc_1000.fit(X_train, y_train)\n",
    "y_pred_1000 = rfc_1000.predict(X_test)\n",
    "print('Model Accuracy: {0:0.4f}'. format(accuracy_score(y_test, y_pred)))\n"
   ]
  },
  {
   "cell_type": "code",
   "execution_count": 47,
   "metadata": {},
   "outputs": [
    {
     "data": {
      "text/plain": [
       "AccY     0.187444\n",
       "AccX     0.176933\n",
       "AccZ     0.169045\n",
       "GyroZ    0.158929\n",
       "GyroY    0.154880\n",
       "GyroX    0.152769\n",
       "dtype: float64"
      ]
     },
     "execution_count": 47,
     "metadata": {},
     "output_type": "execute_result"
    }
   ],
   "source": [
    "# finding feature importance with RFC\n",
    "\n",
    "feature_scores_initial = pd.Series(rfc_1000.feature_importances_,\n",
    "                                   index=X_train.columns).sort_values(ascending=False)\n",
    "feature_scores_initial"
   ]
  },
  {
   "cell_type": "code",
   "execution_count": 52,
   "metadata": {},
   "outputs": [
    {
     "ename": "ValueError",
     "evalue": "Shape mismatch: if categories is an array, it has to be of shape (n_features,).",
     "output_type": "error",
     "traceback": [
      "\u001b[1;31m---------------------------------------------------------------------------\u001b[0m",
      "\u001b[1;31mValueError\u001b[0m                                Traceback (most recent call last)",
      "\u001b[1;32m<ipython-input-52-c340ce1c2b14>\u001b[0m in \u001b[0;36m<module>\u001b[1;34m\u001b[0m\n\u001b[0;32m      4\u001b[0m \u001b[0mencoder\u001b[0m \u001b[1;33m=\u001b[0m \u001b[0mOneHotEncoder\u001b[0m\u001b[1;33m(\u001b[0m\u001b[0msparse\u001b[0m\u001b[1;33m=\u001b[0m\u001b[1;32mFalse\u001b[0m\u001b[1;33m,\u001b[0m \u001b[0mcategories\u001b[0m \u001b[1;33m=\u001b[0m \u001b[1;33m[\u001b[0m\u001b[1;33m]\u001b[0m\u001b[1;33m)\u001b[0m\u001b[1;33m\u001b[0m\u001b[1;33m\u001b[0m\u001b[0m\n\u001b[0;32m      5\u001b[0m \u001b[1;33m\u001b[0m\u001b[0m\n\u001b[1;32m----> 6\u001b[1;33m \u001b[0monehot\u001b[0m \u001b[1;33m=\u001b[0m \u001b[0mencoder\u001b[0m\u001b[1;33m.\u001b[0m\u001b[0mfit_transform\u001b[0m\u001b[1;33m(\u001b[0m\u001b[0my\u001b[0m\u001b[1;33m)\u001b[0m\u001b[1;33m\u001b[0m\u001b[1;33m\u001b[0m\u001b[0m\n\u001b[0m\u001b[0;32m      7\u001b[0m \u001b[0mprint\u001b[0m\u001b[1;33m(\u001b[0m\u001b[0monehot\u001b[0m\u001b[1;33m)\u001b[0m\u001b[1;33m\u001b[0m\u001b[1;33m\u001b[0m\u001b[0m\n\u001b[0;32m      8\u001b[0m \u001b[1;33m\u001b[0m\u001b[0m\n",
      "\u001b[1;32mc:\\Users\\charl\\anaconda3\\lib\\site-packages\\sklearn\\preprocessing\\_encoders.py\u001b[0m in \u001b[0;36mfit_transform\u001b[1;34m(self, X, y)\u001b[0m\n\u001b[0;32m    441\u001b[0m         \"\"\"\n\u001b[0;32m    442\u001b[0m         \u001b[0mself\u001b[0m\u001b[1;33m.\u001b[0m\u001b[0m_validate_keywords\u001b[0m\u001b[1;33m(\u001b[0m\u001b[1;33m)\u001b[0m\u001b[1;33m\u001b[0m\u001b[1;33m\u001b[0m\u001b[0m\n\u001b[1;32m--> 443\u001b[1;33m         \u001b[1;32mreturn\u001b[0m \u001b[0msuper\u001b[0m\u001b[1;33m(\u001b[0m\u001b[1;33m)\u001b[0m\u001b[1;33m.\u001b[0m\u001b[0mfit_transform\u001b[0m\u001b[1;33m(\u001b[0m\u001b[0mX\u001b[0m\u001b[1;33m,\u001b[0m \u001b[0my\u001b[0m\u001b[1;33m)\u001b[0m\u001b[1;33m\u001b[0m\u001b[1;33m\u001b[0m\u001b[0m\n\u001b[0m\u001b[0;32m    444\u001b[0m \u001b[1;33m\u001b[0m\u001b[0m\n\u001b[0;32m    445\u001b[0m     \u001b[1;32mdef\u001b[0m \u001b[0mtransform\u001b[0m\u001b[1;33m(\u001b[0m\u001b[0mself\u001b[0m\u001b[1;33m,\u001b[0m \u001b[0mX\u001b[0m\u001b[1;33m)\u001b[0m\u001b[1;33m:\u001b[0m\u001b[1;33m\u001b[0m\u001b[1;33m\u001b[0m\u001b[0m\n",
      "\u001b[1;32mc:\\Users\\charl\\anaconda3\\lib\\site-packages\\sklearn\\base.py\u001b[0m in \u001b[0;36mfit_transform\u001b[1;34m(self, X, y, **fit_params)\u001b[0m\n\u001b[0;32m    697\u001b[0m         \u001b[1;32mif\u001b[0m \u001b[0my\u001b[0m \u001b[1;32mis\u001b[0m \u001b[1;32mNone\u001b[0m\u001b[1;33m:\u001b[0m\u001b[1;33m\u001b[0m\u001b[1;33m\u001b[0m\u001b[0m\n\u001b[0;32m    698\u001b[0m             \u001b[1;31m# fit method of arity 1 (unsupervised transformation)\u001b[0m\u001b[1;33m\u001b[0m\u001b[1;33m\u001b[0m\u001b[1;33m\u001b[0m\u001b[0m\n\u001b[1;32m--> 699\u001b[1;33m             \u001b[1;32mreturn\u001b[0m \u001b[0mself\u001b[0m\u001b[1;33m.\u001b[0m\u001b[0mfit\u001b[0m\u001b[1;33m(\u001b[0m\u001b[0mX\u001b[0m\u001b[1;33m,\u001b[0m \u001b[1;33m**\u001b[0m\u001b[0mfit_params\u001b[0m\u001b[1;33m)\u001b[0m\u001b[1;33m.\u001b[0m\u001b[0mtransform\u001b[0m\u001b[1;33m(\u001b[0m\u001b[0mX\u001b[0m\u001b[1;33m)\u001b[0m\u001b[1;33m\u001b[0m\u001b[1;33m\u001b[0m\u001b[0m\n\u001b[0m\u001b[0;32m    700\u001b[0m         \u001b[1;32melse\u001b[0m\u001b[1;33m:\u001b[0m\u001b[1;33m\u001b[0m\u001b[1;33m\u001b[0m\u001b[0m\n\u001b[0;32m    701\u001b[0m             \u001b[1;31m# fit method of arity 2 (supervised transformation)\u001b[0m\u001b[1;33m\u001b[0m\u001b[1;33m\u001b[0m\u001b[1;33m\u001b[0m\u001b[0m\n",
      "\u001b[1;32mc:\\Users\\charl\\anaconda3\\lib\\site-packages\\sklearn\\preprocessing\\_encoders.py\u001b[0m in \u001b[0;36mfit\u001b[1;34m(self, X, y)\u001b[0m\n\u001b[0;32m    415\u001b[0m         \"\"\"\n\u001b[0;32m    416\u001b[0m         \u001b[0mself\u001b[0m\u001b[1;33m.\u001b[0m\u001b[0m_validate_keywords\u001b[0m\u001b[1;33m(\u001b[0m\u001b[1;33m)\u001b[0m\u001b[1;33m\u001b[0m\u001b[1;33m\u001b[0m\u001b[0m\n\u001b[1;32m--> 417\u001b[1;33m         self._fit(X, handle_unknown=self.handle_unknown,\n\u001b[0m\u001b[0;32m    418\u001b[0m                   force_all_finite='allow-nan')\n\u001b[0;32m    419\u001b[0m         \u001b[0mself\u001b[0m\u001b[1;33m.\u001b[0m\u001b[0mdrop_idx_\u001b[0m \u001b[1;33m=\u001b[0m \u001b[0mself\u001b[0m\u001b[1;33m.\u001b[0m\u001b[0m_compute_drop_idx\u001b[0m\u001b[1;33m(\u001b[0m\u001b[1;33m)\u001b[0m\u001b[1;33m\u001b[0m\u001b[1;33m\u001b[0m\u001b[0m\n",
      "\u001b[1;32mc:\\Users\\charl\\anaconda3\\lib\\site-packages\\sklearn\\preprocessing\\_encoders.py\u001b[0m in \u001b[0;36m_fit\u001b[1;34m(self, X, handle_unknown, force_all_finite)\u001b[0m\n\u001b[0;32m     80\u001b[0m         \u001b[1;32mif\u001b[0m \u001b[0mself\u001b[0m\u001b[1;33m.\u001b[0m\u001b[0mcategories\u001b[0m \u001b[1;33m!=\u001b[0m \u001b[1;34m'auto'\u001b[0m\u001b[1;33m:\u001b[0m\u001b[1;33m\u001b[0m\u001b[1;33m\u001b[0m\u001b[0m\n\u001b[0;32m     81\u001b[0m             \u001b[1;32mif\u001b[0m \u001b[0mlen\u001b[0m\u001b[1;33m(\u001b[0m\u001b[0mself\u001b[0m\u001b[1;33m.\u001b[0m\u001b[0mcategories\u001b[0m\u001b[1;33m)\u001b[0m \u001b[1;33m!=\u001b[0m \u001b[0mn_features\u001b[0m\u001b[1;33m:\u001b[0m\u001b[1;33m\u001b[0m\u001b[1;33m\u001b[0m\u001b[0m\n\u001b[1;32m---> 82\u001b[1;33m                 raise ValueError(\"Shape mismatch: if categories is an array,\"\n\u001b[0m\u001b[0;32m     83\u001b[0m                                  \" it has to be of shape (n_features,).\")\n\u001b[0;32m     84\u001b[0m \u001b[1;33m\u001b[0m\u001b[0m\n",
      "\u001b[1;31mValueError\u001b[0m: Shape mismatch: if categories is an array, it has to be of shape (n_features,)."
     ]
    }
   ],
   "source": [
    "\"\"\" Initializing one hot encoding on our feature variables to better pair with our random forest classifier \"\"\"\n",
    "from sklearn.preprocessing import OneHotEncoder\n",
    "\n",
    "encoder = OneHotEncoder(sparse=False, categories = [])\n",
    "\n",
    "onehot = encoder.fit_transform(y)\n",
    "print(onehot)\n",
    "\n",
    "onehot.dtype"
   ]
  }
 ],
 "metadata": {
  "kernelspec": {
   "display_name": "Python 3.9.12 ('base')",
   "language": "python",
   "name": "python3"
  },
  "language_info": {
   "codemirror_mode": {
    "name": "ipython",
    "version": 3
   },
   "file_extension": ".py",
   "mimetype": "text/x-python",
   "name": "python",
   "nbconvert_exporter": "python",
   "pygments_lexer": "ipython3",
   "version": "3.9.12"
  },
  "orig_nbformat": 4,
  "vscode": {
   "interpreter": {
    "hash": "c959f15a748ad89aae0df1ee3554d5e298f5112668e907d8509459ed68d86976"
   }
  }
 },
 "nbformat": 4,
 "nbformat_minor": 2
}
